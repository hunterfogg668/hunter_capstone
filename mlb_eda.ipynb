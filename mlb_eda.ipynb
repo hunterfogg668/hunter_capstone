{
 "cells": [
  {
   "cell_type": "code",
   "execution_count": 1,
   "id": "956ce0d4",
   "metadata": {},
   "outputs": [],
   "source": [
    "import pandas as pd\n",
    "import matplotlib.pyplot as plt\n",
    "import seaborn as sns\n",
    "import datetime\n",
    "\n",
    "%matplotlib inline"
   ]
  },
  {
   "cell_type": "code",
   "execution_count": 2,
   "id": "897f76e2",
   "metadata": {},
   "outputs": [],
   "source": [
    "pd.set_option('display.max_columns', None)"
   ]
  },
  {
   "cell_type": "code",
   "execution_count": 3,
   "id": "533c5e64",
   "metadata": {},
   "outputs": [],
   "source": [
    "# import all tables for EDA"
   ]
  },
  {
   "cell_type": "code",
   "execution_count": 4,
   "id": "0a0bf759",
   "metadata": {},
   "outputs": [],
   "source": [
    "batting = pd.read_csv(r\"C:\\Users\\hunte\\Documents\\NNS-DDA10\\hunter_capstone\\data\\core\\Batting.csv\")"
   ]
  },
  {
   "cell_type": "code",
   "execution_count": 5,
   "id": "b96e6140",
   "metadata": {},
   "outputs": [],
   "source": [
    "batting = batting.loc[batting['yearID'] != 2020]"
   ]
  },
  {
   "cell_type": "code",
   "execution_count": 6,
   "id": "010f0be2",
   "metadata": {},
   "outputs": [],
   "source": [
    "batting2 = batting.loc[batting['yearID'] > 1969]"
   ]
  },
  {
   "cell_type": "code",
   "execution_count": 7,
   "id": "cc8d00ba",
   "metadata": {},
   "outputs": [],
   "source": [
    "allstar = pd.read_csv(r\"C:\\Users\\hunte\\Documents\\NNS-DDA10\\hunter_capstone\\data\\core\\AllstarFull.csv\")"
   ]
  },
  {
   "cell_type": "code",
   "execution_count": 8,
   "id": "0bc96fd4",
   "metadata": {},
   "outputs": [],
   "source": [
    "appearances = pd.read_csv(r\"C:\\Users\\hunte\\Documents\\NNS-DDA10\\hunter_capstone\\data\\core\\Appearances.csv\")"
   ]
  },
  {
   "cell_type": "code",
   "execution_count": 9,
   "id": "1188abde",
   "metadata": {},
   "outputs": [],
   "source": [
    "appearances2 = appearances.loc[appearances['yearID'] > 1969]"
   ]
  },
  {
   "cell_type": "code",
   "execution_count": 10,
   "id": "01cdcf3e",
   "metadata": {},
   "outputs": [],
   "source": [
    "batting_post = pd.read_csv(r\"C:\\Users\\hunte\\Documents\\NNS-DDA10\\hunter_capstone\\data\\core\\BattingPost.csv\")"
   ]
  },
  {
   "cell_type": "code",
   "execution_count": 11,
   "id": "f0cd9dbf",
   "metadata": {},
   "outputs": [],
   "source": [
    "batting_post2 = batting_post.loc[batting_post['yearID'] > 1969]"
   ]
  },
  {
   "cell_type": "code",
   "execution_count": 12,
   "id": "00db3c44",
   "metadata": {},
   "outputs": [],
   "source": [
    "fielding = pd.read_csv(r\"C:\\Users\\hunte\\Documents\\NNS-DDA10\\hunter_capstone\\data\\core\\Fielding.csv\")"
   ]
  },
  {
   "cell_type": "code",
   "execution_count": 13,
   "id": "d967b7e7",
   "metadata": {},
   "outputs": [],
   "source": [
    "fieldingof = pd.read_csv(r\"C:\\Users\\hunte\\Documents\\NNS-DDA10\\hunter_capstone\\data\\core\\FieldingOF.csv\")"
   ]
  },
  {
   "cell_type": "code",
   "execution_count": 14,
   "id": "3b8837e4",
   "metadata": {},
   "outputs": [],
   "source": [
    "fieldingof_split = pd.read_csv(r\"C:\\Users\\hunte\\Documents\\NNS-DDA10\\hunter_capstone\\data\\core\\FieldingOFsplit.csv\")"
   ]
  },
  {
   "cell_type": "code",
   "execution_count": 15,
   "id": "7a3c70a9",
   "metadata": {},
   "outputs": [],
   "source": [
    "fielding_post = pd.read_csv(r\"C:\\Users\\hunte\\Documents\\NNS-DDA10\\hunter_capstone\\data\\core\\FieldingPost.csv\")"
   ]
  },
  {
   "cell_type": "code",
   "execution_count": 16,
   "id": "a83a6b2e",
   "metadata": {},
   "outputs": [],
   "source": [
    "games = pd.read_csv(r\"C:\\Users\\hunte\\Documents\\NNS-DDA10\\capstone\\possible_data\\baseball_reference_2016_scrape.csv\")"
   ]
  },
  {
   "cell_type": "code",
   "execution_count": 17,
   "id": "35b1c45a",
   "metadata": {},
   "outputs": [],
   "source": [
    "homegames = pd.read_csv(r\"C:\\Users\\hunte\\Documents\\NNS-DDA10\\hunter_capstone\\data\\core\\HomeGames.csv\")"
   ]
  },
  {
   "cell_type": "code",
   "execution_count": 18,
   "id": "7e6bc827",
   "metadata": {},
   "outputs": [],
   "source": [
    "managers = pd.read_csv(r\"C:\\Users\\hunte\\Documents\\NNS-DDA10\\hunter_capstone\\data\\core\\Managers.csv\")"
   ]
  },
  {
   "cell_type": "code",
   "execution_count": 19,
   "id": "890aeb30",
   "metadata": {},
   "outputs": [],
   "source": [
    "managershalf = pd.read_csv(r\"C:\\Users\\hunte\\Documents\\NNS-DDA10\\hunter_capstone\\data\\core\\ManagersHalf.csv\")"
   ]
  },
  {
   "cell_type": "code",
   "execution_count": 20,
   "id": "ae3abf9e",
   "metadata": {},
   "outputs": [],
   "source": [
    "parks = pd.read_csv(r\"C:\\Users\\hunte\\Documents\\NNS-DDA10\\hunter_capstone\\data\\core\\Parks.csv\")"
   ]
  },
  {
   "cell_type": "code",
   "execution_count": 21,
   "id": "9cc95cad",
   "metadata": {},
   "outputs": [],
   "source": [
    "people = pd.read_csv(r\"C:\\Users\\hunte\\Documents\\NNS-DDA10\\hunter_capstone\\data\\core\\People.csv\")"
   ]
  },
  {
   "cell_type": "code",
   "execution_count": 22,
   "id": "8e6345d3",
   "metadata": {},
   "outputs": [],
   "source": [
    "pitching = pd.read_csv(r\"C:\\Users\\hunte\\Documents\\NNS-DDA10\\hunter_capstone\\data\\core\\Pitching.csv\")"
   ]
  },
  {
   "cell_type": "code",
   "execution_count": 23,
   "id": "db161602",
   "metadata": {},
   "outputs": [],
   "source": [
    "pitching = pitching.loc[pitching['yearID'] != 2020]"
   ]
  },
  {
   "cell_type": "code",
   "execution_count": 24,
   "id": "8d75c971",
   "metadata": {},
   "outputs": [],
   "source": [
    "pitching_post = pd.read_csv(r\"C:\\Users\\hunte\\Documents\\NNS-DDA10\\hunter_capstone\\data\\core\\PitchingPost.csv\")"
   ]
  },
  {
   "cell_type": "code",
   "execution_count": 25,
   "id": "9a39bfe0",
   "metadata": {},
   "outputs": [],
   "source": [
    "series_post = pd.read_csv(r\"C:\\Users\\hunte\\Documents\\NNS-DDA10\\hunter_capstone\\data\\core\\SeriesPost.csv\")"
   ]
  },
  {
   "cell_type": "code",
   "execution_count": 26,
   "id": "8b547c0d",
   "metadata": {},
   "outputs": [],
   "source": [
    "teams = pd.read_csv(r\"C:\\Users\\hunte\\Documents\\NNS-DDA10\\hunter_capstone\\data\\core\\Teams.csv\")"
   ]
  },
  {
   "cell_type": "code",
   "execution_count": 27,
   "id": "7f38151e",
   "metadata": {},
   "outputs": [],
   "source": [
    "teams_franchises = pd.read_csv(r\"C:\\Users\\hunte\\Documents\\NNS-DDA10\\hunter_capstone\\data\\core\\TeamsFranchises.csv\")"
   ]
  },
  {
   "cell_type": "code",
   "execution_count": 28,
   "id": "7a8357e8",
   "metadata": {},
   "outputs": [],
   "source": [
    "teams_half = pd.read_csv(r\"C:\\Users\\hunte\\Documents\\NNS-DDA10\\hunter_capstone\\data\\core\\TeamsHalf.csv\")"
   ]
  },
  {
   "cell_type": "code",
   "execution_count": 29,
   "id": "474e8638",
   "metadata": {},
   "outputs": [],
   "source": [
    "people2 = people.loc[people['birthYear'] > 1900]"
   ]
  },
  {
   "cell_type": "code",
   "execution_count": 30,
   "id": "f0ca9438",
   "metadata": {},
   "outputs": [
    {
     "data": {
      "text/plain": [
       "count    20041.000000\n",
       "mean       188.429519\n",
       "std         22.635234\n",
       "min         65.000000\n",
       "25%        173.000000\n",
       "50%        185.000000\n",
       "75%        200.000000\n",
       "max        320.000000\n",
       "Name: weight, dtype: float64"
      ]
     },
     "execution_count": 30,
     "metadata": {},
     "output_type": "execute_result"
    }
   ],
   "source": [
    "people['weight'].describe()"
   ]
  },
  {
   "cell_type": "code",
   "execution_count": null,
   "id": "fb9e03a3",
   "metadata": {},
   "outputs": [],
   "source": [
    "weight_count = people.value_counts('weight').reset_index(name = 'count')"
   ]
  },
  {
   "cell_type": "code",
   "execution_count": null,
   "id": "ab155ded",
   "metadata": {},
   "outputs": [],
   "source": [
    "weight_count.sort_values('weight', ascending = False)"
   ]
  },
  {
   "cell_type": "code",
   "execution_count": null,
   "id": "e582e428",
   "metadata": {},
   "outputs": [],
   "source": [
    "batting2_people = batting2.merge(people, how = 'inner', on = 'playerID')"
   ]
  },
  {
   "cell_type": "code",
   "execution_count": null,
   "id": "4ff95689",
   "metadata": {},
   "outputs": [],
   "source": [
    "hrcount_by_weight = batting2_people.groupby('weight')['HR'].sum().reset_index(name = 'hr_count')"
   ]
  },
  {
   "cell_type": "code",
   "execution_count": null,
   "id": "9e903fc1",
   "metadata": {},
   "outputs": [],
   "source": [
    "hrcount_by_weight"
   ]
  },
  {
   "cell_type": "code",
   "execution_count": null,
   "id": "b45695e2",
   "metadata": {},
   "outputs": [],
   "source": [
    "batting2_people.HR.describe()"
   ]
  },
  {
   "cell_type": "code",
   "execution_count": null,
   "id": "384a5b4f",
   "metadata": {},
   "outputs": [],
   "source": [
    "# find Shohei playerid and make dfs. Excluding 2020 because of pandemic"
   ]
  },
  {
   "cell_type": "code",
   "execution_count": null,
   "id": "f89b1fbc",
   "metadata": {},
   "outputs": [],
   "source": [
    "shohei_id = people.loc[people['nameFirst'] == 'Shohei']['playerID'].reset_index(drop = False)"
   ]
  },
  {
   "cell_type": "code",
   "execution_count": null,
   "id": "7ad33614",
   "metadata": {},
   "outputs": [],
   "source": [
    "shohei_id = shohei_id['playerID']"
   ]
  },
  {
   "cell_type": "code",
   "execution_count": null,
   "id": "36c6833e",
   "metadata": {},
   "outputs": [],
   "source": [
    "shohei_info = people.query('playerID in @shohei_id')"
   ]
  },
  {
   "cell_type": "code",
   "execution_count": null,
   "id": "4a94b3da",
   "metadata": {},
   "outputs": [],
   "source": [
    "shohei_batting = batting.query('playerID in @shohei_id')"
   ]
  },
  {
   "cell_type": "code",
   "execution_count": null,
   "id": "1c36dbec",
   "metadata": {},
   "outputs": [],
   "source": [
    "shohei_batting = shohei_batting.loc[shohei_batting['yearID'] != 2020]"
   ]
  },
  {
   "cell_type": "code",
   "execution_count": null,
   "id": "9a63cf36",
   "metadata": {},
   "outputs": [],
   "source": [
    "shohei_pitching = pitching.query('playerID in @shohei_id')"
   ]
  },
  {
   "cell_type": "code",
   "execution_count": null,
   "id": "a390eec8",
   "metadata": {},
   "outputs": [],
   "source": [
    "shohei_pitching = shohei_pitching.loc[shohei_pitching['yearID'] != 2020]"
   ]
  },
  {
   "cell_type": "code",
   "execution_count": null,
   "id": "1ca6f072",
   "metadata": {},
   "outputs": [],
   "source": [
    "shohei_batting"
   ]
  },
  {
   "cell_type": "code",
   "execution_count": null,
   "id": "62929939",
   "metadata": {},
   "outputs": [],
   "source": [
    "# find Babe Ruth playerid and make dfs"
   ]
  },
  {
   "cell_type": "code",
   "execution_count": null,
   "id": "fdda9eda",
   "metadata": {},
   "outputs": [],
   "source": [
    "babe_info = people.loc[people['nameLast'] == 'Ruth']"
   ]
  },
  {
   "cell_type": "code",
   "execution_count": null,
   "id": "ea3ec99a",
   "metadata": {},
   "outputs": [],
   "source": [
    "babe_id = babe_info['playerID']"
   ]
  },
  {
   "cell_type": "code",
   "execution_count": null,
   "id": "47737829",
   "metadata": {},
   "outputs": [],
   "source": [
    "babe_batting = batting.query('playerID in @babe_id')"
   ]
  },
  {
   "cell_type": "code",
   "execution_count": null,
   "id": "3ea9f0d1",
   "metadata": {},
   "outputs": [],
   "source": [
    "babe_pitching = pitching.query('playerID in @babe_id')"
   ]
  },
  {
   "cell_type": "code",
   "execution_count": null,
   "id": "8afd37ca",
   "metadata": {
    "scrolled": true
   },
   "outputs": [],
   "source": [
    "babe_batting.sort_values('HR', ascending = False)"
   ]
  },
  {
   "cell_type": "code",
   "execution_count": null,
   "id": "09988c67",
   "metadata": {},
   "outputs": [],
   "source": [
    "babe_batting.sort_values('RBI', ascending = False)"
   ]
  },
  {
   "cell_type": "code",
   "execution_count": null,
   "id": "9988c0b9",
   "metadata": {},
   "outputs": [],
   "source": [
    "#save the DFs to csvs"
   ]
  },
  {
   "cell_type": "code",
   "execution_count": null,
   "id": "d8abcff9",
   "metadata": {},
   "outputs": [],
   "source": [
    "babe_pitching.to_csv('data/babe_pitching.csv')"
   ]
  },
  {
   "cell_type": "code",
   "execution_count": null,
   "id": "f7f5a3ca",
   "metadata": {},
   "outputs": [],
   "source": [
    "babe_batting.to_csv('data/babe_batting.csv')"
   ]
  },
  {
   "cell_type": "code",
   "execution_count": null,
   "id": "eeec1e5f",
   "metadata": {},
   "outputs": [],
   "source": [
    "shohei_pitching.to_csv('data/shohei_pitching.csv')"
   ]
  },
  {
   "cell_type": "code",
   "execution_count": null,
   "id": "c601f4b0",
   "metadata": {},
   "outputs": [],
   "source": [
    "shohei_batting.to_csv('data/shohei_batting.csv')"
   ]
  },
  {
   "cell_type": "code",
   "execution_count": null,
   "id": "d7784f0a",
   "metadata": {},
   "outputs": [],
   "source": [
    "both_batting = pd.concat([babe_batting, shohei_batting])"
   ]
  },
  {
   "cell_type": "code",
   "execution_count": null,
   "id": "2783a0e4",
   "metadata": {},
   "outputs": [],
   "source": [
    "both_pitching = pd.concat([babe_pitching, shohei_pitching])"
   ]
  },
  {
   "cell_type": "code",
   "execution_count": null,
   "id": "2a8d9ad9",
   "metadata": {},
   "outputs": [],
   "source": [
    "both_pitching.to_csv('data/both_pitching.csv')"
   ]
  },
  {
   "cell_type": "code",
   "execution_count": null,
   "id": "f365031f",
   "metadata": {},
   "outputs": [],
   "source": [
    "both_batting.to_csv('data/both_batting.csv')"
   ]
  },
  {
   "cell_type": "code",
   "execution_count": null,
   "id": "ab86be45",
   "metadata": {},
   "outputs": [],
   "source": [
    "fielding"
   ]
  },
  {
   "cell_type": "code",
   "execution_count": null,
   "id": "462dfa0d",
   "metadata": {},
   "outputs": [],
   "source": [
    "people.merge(batting, how = 'inner', on = 'playerID').to_csv('data/all_batting.csv')"
   ]
  },
  {
   "cell_type": "code",
   "execution_count": 36,
   "id": "08c63869",
   "metadata": {},
   "outputs": [
    {
     "name": "stderr",
     "output_type": "stream",
     "text": [
      "\n",
      "KeyboardInterrupt\n",
      "\n"
     ]
    }
   ],
   "source": [
    "people.birthYear.astype('int64')"
   ]
  },
  {
   "cell_type": "code",
   "execution_count": null,
   "id": "cdcaa401",
   "metadata": {},
   "outputs": [],
   "source": []
  },
  {
   "cell_type": "code",
   "execution_count": null,
   "id": "12102460",
   "metadata": {},
   "outputs": [],
   "source": []
  },
  {
   "cell_type": "code",
   "execution_count": null,
   "id": "61a15c65",
   "metadata": {},
   "outputs": [],
   "source": []
  },
  {
   "cell_type": "code",
   "execution_count": null,
   "id": "534f4ed1",
   "metadata": {},
   "outputs": [],
   "source": []
  },
  {
   "cell_type": "code",
   "execution_count": null,
   "id": "fd971118",
   "metadata": {},
   "outputs": [],
   "source": []
  },
  {
   "cell_type": "code",
   "execution_count": null,
   "id": "8a0e5534",
   "metadata": {},
   "outputs": [],
   "source": []
  },
  {
   "cell_type": "code",
   "execution_count": null,
   "id": "cedb7dd7",
   "metadata": {},
   "outputs": [],
   "source": []
  },
  {
   "cell_type": "code",
   "execution_count": null,
   "id": "d4e27e76",
   "metadata": {},
   "outputs": [],
   "source": []
  },
  {
   "cell_type": "code",
   "execution_count": null,
   "id": "c00a8f34",
   "metadata": {},
   "outputs": [],
   "source": []
  },
  {
   "cell_type": "code",
   "execution_count": null,
   "id": "266882b0",
   "metadata": {},
   "outputs": [],
   "source": []
  },
  {
   "cell_type": "code",
   "execution_count": null,
   "id": "7ad653e1",
   "metadata": {},
   "outputs": [],
   "source": []
  },
  {
   "cell_type": "code",
   "execution_count": null,
   "id": "31169f4a",
   "metadata": {},
   "outputs": [],
   "source": []
  },
  {
   "cell_type": "code",
   "execution_count": null,
   "id": "d7fee04d",
   "metadata": {},
   "outputs": [],
   "source": []
  },
  {
   "cell_type": "code",
   "execution_count": null,
   "id": "1c98d6a1",
   "metadata": {},
   "outputs": [],
   "source": []
  },
  {
   "cell_type": "code",
   "execution_count": null,
   "id": "efc60744",
   "metadata": {},
   "outputs": [],
   "source": []
  },
  {
   "cell_type": "code",
   "execution_count": null,
   "id": "ce417061",
   "metadata": {},
   "outputs": [],
   "source": []
  },
  {
   "cell_type": "code",
   "execution_count": null,
   "id": "baeda2ea",
   "metadata": {},
   "outputs": [],
   "source": []
  }
 ],
 "metadata": {
  "kernelspec": {
   "display_name": "Python 3 (ipykernel)",
   "language": "python",
   "name": "python3"
  },
  "language_info": {
   "codemirror_mode": {
    "name": "ipython",
    "version": 3
   },
   "file_extension": ".py",
   "mimetype": "text/x-python",
   "name": "python",
   "nbconvert_exporter": "python",
   "pygments_lexer": "ipython3",
   "version": "3.10.9"
  }
 },
 "nbformat": 4,
 "nbformat_minor": 5
}
