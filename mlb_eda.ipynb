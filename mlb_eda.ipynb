{
 "cells": [
  {
   "cell_type": "code",
   "execution_count": 1,
   "id": "956ce0d4",
   "metadata": {},
   "outputs": [],
   "source": [
    "import pandas as pd\n",
    "import matplotlib.pyplot as plt\n",
    "import seaborn as sns\n",
    "import datetime\n",
    "\n",
    "%matplotlib inline"
   ]
  },
  {
   "cell_type": "code",
   "execution_count": 2,
   "id": "897f76e2",
   "metadata": {},
   "outputs": [],
   "source": [
    "pd.set_option('display.max_columns', None)"
   ]
  },
  {
   "cell_type": "code",
   "execution_count": null,
   "id": "533c5e64",
   "metadata": {},
   "outputs": [],
   "source": [
    "# import all tables for EDA"
   ]
  },
  {
   "cell_type": "code",
   "execution_count": 5,
   "id": "0a0bf759",
   "metadata": {},
   "outputs": [],
   "source": [
    "batting = pd.read_csv(r\"C:\\Users\\hunte\\Documents\\NNS-DDA10\\hunter_capstone\\data\\core\\Batting.csv\")"
   ]
  },
  {
   "cell_type": "code",
   "execution_count": 89,
   "id": "010f0be2",
   "metadata": {},
   "outputs": [],
   "source": [
    "batting2 = batting.loc[batting['yearID'] > 1969]"
   ]
  },
  {
   "cell_type": "code",
   "execution_count": 6,
   "id": "cc8d00ba",
   "metadata": {},
   "outputs": [],
   "source": [
    "allstar = pd.read_csv(r\"C:\\Users\\hunte\\Documents\\NNS-DDA10\\hunter_capstone\\data\\core\\AllstarFull.csv\")"
   ]
  },
  {
   "cell_type": "code",
   "execution_count": 7,
   "id": "0bc96fd4",
   "metadata": {},
   "outputs": [],
   "source": [
    "appearances = pd.read_csv(r\"C:\\Users\\hunte\\Documents\\NNS-DDA10\\hunter_capstone\\data\\core\\Appearances.csv\")"
   ]
  },
  {
   "cell_type": "code",
   "execution_count": 85,
   "id": "1188abde",
   "metadata": {},
   "outputs": [],
   "source": [
    "appearances2 = appearances.loc[appearances['yearID'] > 1969]"
   ]
  },
  {
   "cell_type": "code",
   "execution_count": 8,
   "id": "01cdcf3e",
   "metadata": {},
   "outputs": [],
   "source": [
    "batting_post = pd.read_csv(r\"C:\\Users\\hunte\\Documents\\NNS-DDA10\\hunter_capstone\\data\\core\\BattingPost.csv\")"
   ]
  },
  {
   "cell_type": "code",
   "execution_count": 77,
   "id": "f0cd9dbf",
   "metadata": {},
   "outputs": [],
   "source": [
    "batting_post2 = batting_post.loc[batting_post['yearID'] > 1969]"
   ]
  },
  {
   "cell_type": "code",
   "execution_count": 9,
   "id": "00db3c44",
   "metadata": {},
   "outputs": [],
   "source": [
    "fielding = pd.read_csv(r\"C:\\Users\\hunte\\Documents\\NNS-DDA10\\hunter_capstone\\data\\core\\Fielding.csv\")"
   ]
  },
  {
   "cell_type": "code",
   "execution_count": 10,
   "id": "d967b7e7",
   "metadata": {},
   "outputs": [],
   "source": [
    "fieldingof = pd.read_csv(r\"C:\\Users\\hunte\\Documents\\NNS-DDA10\\hunter_capstone\\data\\core\\FieldingOF.csv\")"
   ]
  },
  {
   "cell_type": "code",
   "execution_count": 11,
   "id": "3b8837e4",
   "metadata": {},
   "outputs": [],
   "source": [
    "fieldingof_split = pd.read_csv(r\"C:\\Users\\hunte\\Documents\\NNS-DDA10\\hunter_capstone\\data\\core\\FieldingOFsplit.csv\")"
   ]
  },
  {
   "cell_type": "code",
   "execution_count": 12,
   "id": "7a3c70a9",
   "metadata": {},
   "outputs": [],
   "source": [
    "fielding_post = pd.read_csv(r\"C:\\Users\\hunte\\Documents\\NNS-DDA10\\hunter_capstone\\data\\core\\FieldingPost.csv\")"
   ]
  },
  {
   "cell_type": "code",
   "execution_count": 19,
   "id": "a83a6b2e",
   "metadata": {},
   "outputs": [],
   "source": [
    "games = pd.read_csv(r\"C:\\Users\\hunte\\Documents\\NNS-DDA10\\capstone\\possible_data\\baseball_reference_2016_scrape.csv\")"
   ]
  },
  {
   "cell_type": "code",
   "execution_count": 13,
   "id": "35b1c45a",
   "metadata": {},
   "outputs": [],
   "source": [
    "homegames = pd.read_csv(r\"C:\\Users\\hunte\\Documents\\NNS-DDA10\\hunter_capstone\\data\\core\\HomeGames.csv\")"
   ]
  },
  {
   "cell_type": "code",
   "execution_count": 14,
   "id": "7e6bc827",
   "metadata": {},
   "outputs": [],
   "source": [
    "managers = pd.read_csv(r\"C:\\Users\\hunte\\Documents\\NNS-DDA10\\hunter_capstone\\data\\core\\Managers.csv\")"
   ]
  },
  {
   "cell_type": "code",
   "execution_count": 15,
   "id": "890aeb30",
   "metadata": {},
   "outputs": [],
   "source": [
    "managershalf = pd.read_csv(r\"C:\\Users\\hunte\\Documents\\NNS-DDA10\\hunter_capstone\\data\\core\\ManagersHalf.csv\")"
   ]
  },
  {
   "cell_type": "code",
   "execution_count": 16,
   "id": "ae3abf9e",
   "metadata": {},
   "outputs": [],
   "source": [
    "parks = pd.read_csv(r\"C:\\Users\\hunte\\Documents\\NNS-DDA10\\hunter_capstone\\data\\core\\Parks.csv\")"
   ]
  },
  {
   "cell_type": "code",
   "execution_count": 17,
   "id": "9cc95cad",
   "metadata": {},
   "outputs": [],
   "source": [
    "people = pd.read_csv(r\"C:\\Users\\hunte\\Documents\\NNS-DDA10\\hunter_capstone\\data\\core\\People.csv\")"
   ]
  },
  {
   "cell_type": "code",
   "execution_count": 18,
   "id": "8e6345d3",
   "metadata": {},
   "outputs": [],
   "source": [
    "pitching = pd.read_csv(r\"C:\\Users\\hunte\\Documents\\NNS-DDA10\\hunter_capstone\\data\\core\\Pitching.csv\")"
   ]
  },
  {
   "cell_type": "code",
   "execution_count": 20,
   "id": "8d75c971",
   "metadata": {},
   "outputs": [],
   "source": [
    "pitching_post = pd.read_csv(r\"C:\\Users\\hunte\\Documents\\NNS-DDA10\\hunter_capstone\\data\\core\\PitchingPost.csv\")"
   ]
  },
  {
   "cell_type": "code",
   "execution_count": 21,
   "id": "9a39bfe0",
   "metadata": {},
   "outputs": [],
   "source": [
    "series_post = pd.read_csv(r\"C:\\Users\\hunte\\Documents\\NNS-DDA10\\hunter_capstone\\data\\core\\SeriesPost.csv\")"
   ]
  },
  {
   "cell_type": "code",
   "execution_count": 22,
   "id": "8b547c0d",
   "metadata": {},
   "outputs": [],
   "source": [
    "teams = pd.read_csv(r\"C:\\Users\\hunte\\Documents\\NNS-DDA10\\hunter_capstone\\data\\core\\Teams.csv\")"
   ]
  },
  {
   "cell_type": "code",
   "execution_count": 23,
   "id": "7f38151e",
   "metadata": {},
   "outputs": [],
   "source": [
    "teams_franchises = pd.read_csv(r\"C:\\Users\\hunte\\Documents\\NNS-DDA10\\hunter_capstone\\data\\core\\TeamsFranchises.csv\")"
   ]
  },
  {
   "cell_type": "code",
   "execution_count": 24,
   "id": "7a8357e8",
   "metadata": {},
   "outputs": [],
   "source": [
    "teams_half = pd.read_csv(r\"C:\\Users\\hunte\\Documents\\NNS-DDA10\\hunter_capstone\\data\\core\\TeamsHalf.csv\")"
   ]
  },
  {
   "cell_type": "code",
   "execution_count": 38,
   "id": "f89b1fbc",
   "metadata": {},
   "outputs": [
    {
     "data": {
      "text/html": [
       "<div>\n",
       "<style scoped>\n",
       "    .dataframe tbody tr th:only-of-type {\n",
       "        vertical-align: middle;\n",
       "    }\n",
       "\n",
       "    .dataframe tbody tr th {\n",
       "        vertical-align: top;\n",
       "    }\n",
       "\n",
       "    .dataframe thead th {\n",
       "        text-align: right;\n",
       "    }\n",
       "</style>\n",
       "<table border=\"1\" class=\"dataframe\">\n",
       "  <thead>\n",
       "    <tr style=\"text-align: right;\">\n",
       "      <th></th>\n",
       "      <th>playerID</th>\n",
       "      <th>birthYear</th>\n",
       "      <th>birthMonth</th>\n",
       "      <th>birthDay</th>\n",
       "      <th>birthCountry</th>\n",
       "      <th>birthState</th>\n",
       "      <th>birthCity</th>\n",
       "      <th>deathYear</th>\n",
       "      <th>deathMonth</th>\n",
       "      <th>deathDay</th>\n",
       "      <th>deathCountry</th>\n",
       "      <th>deathState</th>\n",
       "      <th>deathCity</th>\n",
       "      <th>nameFirst</th>\n",
       "      <th>nameLast</th>\n",
       "      <th>nameGiven</th>\n",
       "      <th>weight</th>\n",
       "      <th>height</th>\n",
       "      <th>bats</th>\n",
       "      <th>throws</th>\n",
       "      <th>debut</th>\n",
       "      <th>finalGame</th>\n",
       "      <th>retroID</th>\n",
       "      <th>bbrefID</th>\n",
       "    </tr>\n",
       "  </thead>\n",
       "  <tbody>\n",
       "    <tr>\n",
       "      <th>13912</th>\n",
       "      <td>ohtansh01</td>\n",
       "      <td>1994.0</td>\n",
       "      <td>7.0</td>\n",
       "      <td>5.0</td>\n",
       "      <td>Japan</td>\n",
       "      <td>Iwate</td>\n",
       "      <td>Oshu</td>\n",
       "      <td>NaN</td>\n",
       "      <td>NaN</td>\n",
       "      <td>NaN</td>\n",
       "      <td>NaN</td>\n",
       "      <td>NaN</td>\n",
       "      <td>NaN</td>\n",
       "      <td>Shohei</td>\n",
       "      <td>Ohtani</td>\n",
       "      <td>Shohei</td>\n",
       "      <td>210.0</td>\n",
       "      <td>76.0</td>\n",
       "      <td>L</td>\n",
       "      <td>R</td>\n",
       "      <td>2018-03-29</td>\n",
       "      <td>2023-07-23</td>\n",
       "      <td>ohtas001</td>\n",
       "      <td>ohtansh01</td>\n",
       "    </tr>\n",
       "  </tbody>\n",
       "</table>\n",
       "</div>"
      ],
      "text/plain": [
       "        playerID  birthYear  birthMonth  birthDay birthCountry birthState  \\\n",
       "13912  ohtansh01     1994.0         7.0       5.0        Japan      Iwate   \n",
       "\n",
       "      birthCity  deathYear  deathMonth  deathDay deathCountry deathState  \\\n",
       "13912      Oshu        NaN         NaN       NaN          NaN        NaN   \n",
       "\n",
       "      deathCity nameFirst nameLast nameGiven  weight  height bats throws  \\\n",
       "13912       NaN    Shohei   Ohtani    Shohei   210.0    76.0    L      R   \n",
       "\n",
       "            debut   finalGame   retroID    bbrefID  \n",
       "13912  2018-03-29  2023-07-23  ohtas001  ohtansh01  "
      ]
     },
     "execution_count": 38,
     "metadata": {},
     "output_type": "execute_result"
    }
   ],
   "source": [
    "people.loc[people['nameFirst'] == 'Shohei']"
   ]
  },
  {
   "cell_type": "code",
   "execution_count": 51,
   "id": "474e8638",
   "metadata": {},
   "outputs": [],
   "source": [
    "people = people.loc[people['birthYear'] > 1900]"
   ]
  },
  {
   "cell_type": "code",
   "execution_count": 52,
   "id": "f0ca9438",
   "metadata": {},
   "outputs": [
    {
     "data": {
      "text/plain": [
       "count    11842.000000\n",
       "mean       197.808478\n",
       "std         21.894862\n",
       "min        140.000000\n",
       "25%        182.000000\n",
       "50%        195.000000\n",
       "75%        210.000000\n",
       "max        320.000000\n",
       "Name: weight, dtype: float64"
      ]
     },
     "execution_count": 52,
     "metadata": {},
     "output_type": "execute_result"
    }
   ],
   "source": [
    "people['weight'].describe()"
   ]
  },
  {
   "cell_type": "code",
   "execution_count": 60,
   "id": "fb9e03a3",
   "metadata": {},
   "outputs": [],
   "source": [
    "weight_count = people.value_counts('weight').reset_index(name = 'count')"
   ]
  },
  {
   "cell_type": "code",
   "execution_count": 63,
   "id": "ab155ded",
   "metadata": {},
   "outputs": [
    {
     "data": {
      "text/html": [
       "<div>\n",
       "<style scoped>\n",
       "    .dataframe tbody tr th:only-of-type {\n",
       "        vertical-align: middle;\n",
       "    }\n",
       "\n",
       "    .dataframe tbody tr th {\n",
       "        vertical-align: top;\n",
       "    }\n",
       "\n",
       "    .dataframe thead th {\n",
       "        text-align: right;\n",
       "    }\n",
       "</style>\n",
       "<table border=\"1\" class=\"dataframe\">\n",
       "  <thead>\n",
       "    <tr style=\"text-align: right;\">\n",
       "      <th></th>\n",
       "      <th>weight</th>\n",
       "      <th>count</th>\n",
       "    </tr>\n",
       "  </thead>\n",
       "  <tbody>\n",
       "    <tr>\n",
       "      <th>134</th>\n",
       "      <td>320.0</td>\n",
       "      <td>1</td>\n",
       "    </tr>\n",
       "    <tr>\n",
       "      <th>120</th>\n",
       "      <td>315.0</td>\n",
       "      <td>1</td>\n",
       "    </tr>\n",
       "    <tr>\n",
       "      <th>123</th>\n",
       "      <td>300.0</td>\n",
       "      <td>1</td>\n",
       "    </tr>\n",
       "    <tr>\n",
       "      <th>119</th>\n",
       "      <td>295.0</td>\n",
       "      <td>1</td>\n",
       "    </tr>\n",
       "    <tr>\n",
       "      <th>109</th>\n",
       "      <td>290.0</td>\n",
       "      <td>3</td>\n",
       "    </tr>\n",
       "    <tr>\n",
       "      <th>...</th>\n",
       "      <td>...</td>\n",
       "      <td>...</td>\n",
       "    </tr>\n",
       "    <tr>\n",
       "      <th>122</th>\n",
       "      <td>148.0</td>\n",
       "      <td>1</td>\n",
       "    </tr>\n",
       "    <tr>\n",
       "      <th>117</th>\n",
       "      <td>146.0</td>\n",
       "      <td>1</td>\n",
       "    </tr>\n",
       "    <tr>\n",
       "      <th>81</th>\n",
       "      <td>145.0</td>\n",
       "      <td>9</td>\n",
       "    </tr>\n",
       "    <tr>\n",
       "      <th>133</th>\n",
       "      <td>144.0</td>\n",
       "      <td>1</td>\n",
       "    </tr>\n",
       "    <tr>\n",
       "      <th>93</th>\n",
       "      <td>140.0</td>\n",
       "      <td>6</td>\n",
       "    </tr>\n",
       "  </tbody>\n",
       "</table>\n",
       "<p>135 rows × 2 columns</p>\n",
       "</div>"
      ],
      "text/plain": [
       "     weight  count\n",
       "134   320.0      1\n",
       "120   315.0      1\n",
       "123   300.0      1\n",
       "119   295.0      1\n",
       "109   290.0      3\n",
       "..      ...    ...\n",
       "122   148.0      1\n",
       "117   146.0      1\n",
       "81    145.0      9\n",
       "133   144.0      1\n",
       "93    140.0      6\n",
       "\n",
       "[135 rows x 2 columns]"
      ]
     },
     "execution_count": 63,
     "metadata": {},
     "output_type": "execute_result"
    }
   ],
   "source": [
    "weight_count.sort_values('weight', ascending = False)"
   ]
  },
  {
   "cell_type": "code",
   "execution_count": 94,
   "id": "e582e428",
   "metadata": {},
   "outputs": [],
   "source": [
    "batting2_people = batting2.merge(people, how = 'inner', on = 'playerID')"
   ]
  },
  {
   "cell_type": "code",
   "execution_count": 108,
   "id": "4ff95689",
   "metadata": {},
   "outputs": [],
   "source": [
    "hrcount_by_weight = batting2_people.groupby('weight')['HR'].sum().reset_index(name = 'hr_count')"
   ]
  },
  {
   "cell_type": "code",
   "execution_count": 113,
   "id": "9e903fc1",
   "metadata": {},
   "outputs": [
    {
     "data": {
      "text/html": [
       "<div>\n",
       "<style scoped>\n",
       "    .dataframe tbody tr th:only-of-type {\n",
       "        vertical-align: middle;\n",
       "    }\n",
       "\n",
       "    .dataframe tbody tr th {\n",
       "        vertical-align: top;\n",
       "    }\n",
       "\n",
       "    .dataframe thead th {\n",
       "        text-align: right;\n",
       "    }\n",
       "</style>\n",
       "<table border=\"1\" class=\"dataframe\">\n",
       "  <thead>\n",
       "    <tr style=\"text-align: right;\">\n",
       "      <th></th>\n",
       "      <th>weight</th>\n",
       "      <th>hr_count</th>\n",
       "    </tr>\n",
       "  </thead>\n",
       "  <tbody>\n",
       "    <tr>\n",
       "      <th>0</th>\n",
       "      <td>140.0</td>\n",
       "      <td>51</td>\n",
       "    </tr>\n",
       "    <tr>\n",
       "      <th>1</th>\n",
       "      <td>144.0</td>\n",
       "      <td>0</td>\n",
       "    </tr>\n",
       "    <tr>\n",
       "      <th>2</th>\n",
       "      <td>145.0</td>\n",
       "      <td>70</td>\n",
       "    </tr>\n",
       "    <tr>\n",
       "      <th>3</th>\n",
       "      <td>146.0</td>\n",
       "      <td>5</td>\n",
       "    </tr>\n",
       "    <tr>\n",
       "      <th>4</th>\n",
       "      <td>148.0</td>\n",
       "      <td>34</td>\n",
       "    </tr>\n",
       "    <tr>\n",
       "      <th>...</th>\n",
       "      <td>...</td>\n",
       "      <td>...</td>\n",
       "    </tr>\n",
       "    <tr>\n",
       "      <th>130</th>\n",
       "      <td>290.0</td>\n",
       "      <td>36</td>\n",
       "    </tr>\n",
       "    <tr>\n",
       "      <th>131</th>\n",
       "      <td>295.0</td>\n",
       "      <td>171</td>\n",
       "    </tr>\n",
       "    <tr>\n",
       "      <th>132</th>\n",
       "      <td>300.0</td>\n",
       "      <td>3</td>\n",
       "    </tr>\n",
       "    <tr>\n",
       "      <th>133</th>\n",
       "      <td>315.0</td>\n",
       "      <td>0</td>\n",
       "    </tr>\n",
       "    <tr>\n",
       "      <th>134</th>\n",
       "      <td>320.0</td>\n",
       "      <td>1</td>\n",
       "    </tr>\n",
       "  </tbody>\n",
       "</table>\n",
       "<p>135 rows × 2 columns</p>\n",
       "</div>"
      ],
      "text/plain": [
       "     weight  hr_count\n",
       "0     140.0        51\n",
       "1     144.0         0\n",
       "2     145.0        70\n",
       "3     146.0         5\n",
       "4     148.0        34\n",
       "..      ...       ...\n",
       "130   290.0        36\n",
       "131   295.0       171\n",
       "132   300.0         3\n",
       "133   315.0         0\n",
       "134   320.0         1\n",
       "\n",
       "[135 rows x 2 columns]"
      ]
     },
     "execution_count": 113,
     "metadata": {},
     "output_type": "execute_result"
    }
   ],
   "source": [
    "hrcount_by_weight"
   ]
  },
  {
   "cell_type": "code",
   "execution_count": 105,
   "id": "b45695e2",
   "metadata": {},
   "outputs": [
    {
     "data": {
      "text/plain": [
       "count    63986.000000\n",
       "mean         3.459757\n",
       "std          7.154165\n",
       "min          0.000000\n",
       "25%          0.000000\n",
       "50%          0.000000\n",
       "75%          3.000000\n",
       "max         73.000000\n",
       "Name: HR, dtype: float64"
      ]
     },
     "execution_count": 105,
     "metadata": {},
     "output_type": "execute_result"
    }
   ],
   "source": [
    "batting2_people.HR.describe()"
   ]
  },
  {
   "cell_type": "code",
   "execution_count": null,
   "id": "7ad33614",
   "metadata": {},
   "outputs": [],
   "source": []
  },
  {
   "cell_type": "code",
   "execution_count": null,
   "id": "36c6833e",
   "metadata": {},
   "outputs": [],
   "source": []
  },
  {
   "cell_type": "code",
   "execution_count": null,
   "id": "4a94b3da",
   "metadata": {},
   "outputs": [],
   "source": []
  },
  {
   "cell_type": "code",
   "execution_count": null,
   "id": "fdda9eda",
   "metadata": {},
   "outputs": [],
   "source": []
  },
  {
   "cell_type": "code",
   "execution_count": null,
   "id": "80011eb6",
   "metadata": {},
   "outputs": [],
   "source": []
  },
  {
   "cell_type": "code",
   "execution_count": null,
   "id": "16dad727",
   "metadata": {},
   "outputs": [],
   "source": []
  },
  {
   "cell_type": "code",
   "execution_count": null,
   "id": "70076f2b",
   "metadata": {},
   "outputs": [],
   "source": []
  },
  {
   "cell_type": "code",
   "execution_count": null,
   "id": "51a97bb2",
   "metadata": {},
   "outputs": [],
   "source": []
  },
  {
   "cell_type": "code",
   "execution_count": null,
   "id": "84605bc3",
   "metadata": {},
   "outputs": [],
   "source": []
  },
  {
   "cell_type": "code",
   "execution_count": null,
   "id": "3ea9f0d1",
   "metadata": {},
   "outputs": [],
   "source": []
  },
  {
   "cell_type": "code",
   "execution_count": null,
   "id": "d8abcff9",
   "metadata": {},
   "outputs": [],
   "source": []
  },
  {
   "cell_type": "code",
   "execution_count": null,
   "id": "f7f5a3ca",
   "metadata": {},
   "outputs": [],
   "source": []
  },
  {
   "cell_type": "code",
   "execution_count": null,
   "id": "eeec1e5f",
   "metadata": {},
   "outputs": [],
   "source": []
  },
  {
   "cell_type": "code",
   "execution_count": null,
   "id": "c601f4b0",
   "metadata": {},
   "outputs": [],
   "source": []
  },
  {
   "cell_type": "code",
   "execution_count": null,
   "id": "d7784f0a",
   "metadata": {},
   "outputs": [],
   "source": []
  }
 ],
 "metadata": {
  "kernelspec": {
   "display_name": "Python 3 (ipykernel)",
   "language": "python",
   "name": "python3"
  },
  "language_info": {
   "codemirror_mode": {
    "name": "ipython",
    "version": 3
   },
   "file_extension": ".py",
   "mimetype": "text/x-python",
   "name": "python",
   "nbconvert_exporter": "python",
   "pygments_lexer": "ipython3",
   "version": "3.10.9"
  }
 },
 "nbformat": 4,
 "nbformat_minor": 5
}
