{
 "cells": [
  {
   "cell_type": "code",
   "execution_count": null,
   "id": "09eee447",
   "metadata": {},
   "outputs": [],
   "source": [
    "import requests\n",
    "import pandas as pd\n",
    "import matplotlib.pyplot as plt\n",
    "import json\n",
    "import re\n",
    "import geopandas as gpd\n",
    "from shapely.geometry import Point\n",
    "import numpy as np\n",
    "import folium\n",
    "from folium.plugins import MarkerCluster\n",
    "from folium.plugins import FastMarkerCluster"
   ]
  },
  {
   "cell_type": "markdown",
   "id": "9e159497",
   "metadata": {},
   "source": [
    "# bring in population from the api notebook"
   ]
  },
  {
   "cell_type": "code",
   "execution_count": null,
   "id": "57da19cb",
   "metadata": {},
   "outputs": [],
   "source": [
    "tnpop_65plus = pd.read_csv(r\"C:\\Users\\hunte\\Documents\\NNS-DDA10\\hunter_capstone\\data\\visualization_data\\tnpop_65plus.csv\")"
   ]
  },
  {
   "cell_type": "markdown",
   "id": "e735f80e",
   "metadata": {},
   "source": [
    "# Bring in and clean TN county data for future plotting"
   ]
  },
  {
   "cell_type": "code",
   "execution_count": null,
   "id": "75e13f87",
   "metadata": {},
   "outputs": [],
   "source": [
    "counties = gpd.read_file(r\"C:\\Users\\hunte\\Documents\\NNS-DDA10\\hunter_capstone\\data\\TIGER_Line_2018_Tennessee_Counties.geojson\")"
   ]
  },
  {
   "cell_type": "code",
   "execution_count": null,
   "id": "04cdc1d9",
   "metadata": {},
   "outputs": [],
   "source": [
    "counties = counties[['NAME', 'geometry']]"
   ]
  },
  {
   "cell_type": "code",
   "execution_count": null,
   "id": "cb86b991",
   "metadata": {},
   "outputs": [],
   "source": [
    "county_areas = pd.read_csv(r\"C:\\Users\\hunte\\Documents\\NNS-DDA10\\hunter_capstone\\data\\county_areas.csv\")"
   ]
  },
  {
   "cell_type": "code",
   "execution_count": null,
   "id": "63d21498",
   "metadata": {},
   "outputs": [],
   "source": [
    "county_areas = county_areas.rename(columns = {'Land Area ?' : 'land_area_sqmi',\n",
    "                                              'County / Population' : 'county_name'})"
   ]
  },
  {
   "cell_type": "code",
   "execution_count": null,
   "id": "6fa208a0",
   "metadata": {},
   "outputs": [],
   "source": [
    "county_areas['county_name'] = county_areas['county_name'].replace('Dekalb', 'DeKalb')"
   ]
  },
  {
   "cell_type": "code",
   "execution_count": null,
   "id": "13cf11b6",
   "metadata": {},
   "outputs": [],
   "source": [
    "county_areas['county_name'] = county_areas['county_name'].replace('Mcminn', 'McMinn')"
   ]
  },
  {
   "cell_type": "code",
   "execution_count": null,
   "id": "b972a402",
   "metadata": {},
   "outputs": [],
   "source": [
    "county_areas['county_name'] = county_areas['county_name'].replace('Mcnairy', 'McNairy')"
   ]
  },
  {
   "cell_type": "code",
   "execution_count": null,
   "id": "df41de3d",
   "metadata": {},
   "outputs": [],
   "source": [
    "tnpop_65plus_merge = tnpop_65plus.merge(county_areas, how = 'inner',\n",
    "                                        on = 'county_name')"
   ]
  },
  {
   "cell_type": "markdown",
   "id": "040cee5b",
   "metadata": {},
   "source": [
    "# bring in and clean courses data"
   ]
  },
  {
   "cell_type": "code",
   "execution_count": null,
   "id": "dd5321ec",
   "metadata": {},
   "outputs": [],
   "source": [
    "courses = gpd.read_file(r\"C:\\Users\\hunte\\Documents\\NNS-DDA10\\hunter_capstone\\data\\golf_course_locations.csv\")"
   ]
  },
  {
   "cell_type": "code",
   "execution_count": null,
   "id": "92a6f303",
   "metadata": {},
   "outputs": [],
   "source": [
    "courses['geometry'] = courses.apply(lambda x:Point((float(x.lat),\n",
    "                                                    float(x.lon))),\n",
    "                                    axis = 1)"
   ]
  },
  {
   "cell_type": "code",
   "execution_count": null,
   "id": "e5377d64",
   "metadata": {},
   "outputs": [],
   "source": [
    "courses = gpd.GeoDataFrame(courses,\n",
    "                           crs = counties.crs,\n",
    "                           geometry = courses['geometry'])"
   ]
  },
  {
   "cell_type": "code",
   "execution_count": null,
   "id": "d0596f3c",
   "metadata": {},
   "outputs": [],
   "source": [
    "courses['state'] = courses['golf_course_name'].str[-2:]"
   ]
  },
  {
   "cell_type": "code",
   "execution_count": null,
   "id": "eaa00c88",
   "metadata": {},
   "outputs": [],
   "source": [
    "tn_courses = courses.loc[courses['state'] == 'TN']"
   ]
  },
  {
   "cell_type": "code",
   "execution_count": null,
   "id": "670fc1a5",
   "metadata": {},
   "outputs": [],
   "source": [
    "# Extract the course type from course description"
   ]
  },
  {
   "cell_type": "code",
   "execution_count": null,
   "id": "a2666305",
   "metadata": {},
   "outputs": [],
   "source": [
    "tn_courses['course_type'] = tn_courses['course_desc'].str.extract('\\(([\\w\\s]+)\\)')"
   ]
  },
  {
   "cell_type": "code",
   "execution_count": null,
   "id": "0c6553fc",
   "metadata": {},
   "outputs": [],
   "source": [
    "# Extract the number of holes from course description"
   ]
  },
  {
   "cell_type": "code",
   "execution_count": null,
   "id": "88690051",
   "metadata": {},
   "outputs": [],
   "source": [
    "tn_courses['holes'] = tn_courses['course_desc'].str.extract('\\) \\(([\\w\\s]+)\\)')"
   ]
  },
  {
   "cell_type": "code",
   "execution_count": null,
   "id": "06112d06",
   "metadata": {},
   "outputs": [],
   "source": [
    "# Extract the course name and city from course description"
   ]
  },
  {
   "cell_type": "code",
   "execution_count": null,
   "id": "ad72c82e",
   "metadata": {},
   "outputs": [],
   "source": [
    "tn_courses[['course_name', 'city']] = tn_courses['golf_course_name'].str.split('-', expand = True)"
   ]
  },
  {
   "cell_type": "code",
   "execution_count": null,
   "id": "5f1050e4",
   "metadata": {},
   "outputs": [],
   "source": [
    "tn_courses = tn_courses.drop(columns = {'golf_course_name', 'course_desc'})"
   ]
  },
  {
   "cell_type": "code",
   "execution_count": null,
   "id": "5990960b",
   "metadata": {},
   "outputs": [],
   "source": [
    "# Geospatial join to get golf courses within the counties"
   ]
  },
  {
   "cell_type": "code",
   "execution_count": null,
   "id": "a92cada1",
   "metadata": {},
   "outputs": [],
   "source": [
    "join = gpd.sjoin(tn_courses, counties, predicate = 'within')"
   ]
  },
  {
   "cell_type": "code",
   "execution_count": null,
   "id": "ccf60417",
   "metadata": {},
   "outputs": [],
   "source": [
    "join = join.rename(columns = {'NAME' : 'county_name'})"
   ]
  },
  {
   "cell_type": "markdown",
   "id": "7ab3d072",
   "metadata": {},
   "source": [
    "# Bring in the tnpop_65plus df for population and income along with county_areas"
   ]
  },
  {
   "cell_type": "code",
   "execution_count": null,
   "id": "10458c13",
   "metadata": {},
   "outputs": [],
   "source": [
    "county_areas = county_areas.rename(columns = {'Rank' : 'area_rank',})"
   ]
  },
  {
   "cell_type": "code",
   "execution_count": null,
   "id": "c37b70af",
   "metadata": {},
   "outputs": [],
   "source": [
    "county_areas['land_area_sqmi'] = county_areas['land_area_sqmi'].str[:-6]"
   ]
  },
  {
   "cell_type": "code",
   "execution_count": null,
   "id": "00518051",
   "metadata": {},
   "outputs": [],
   "source": [
    "county_areas_income = county_areas.merge(tnpop_65plus, how = 'inner', on = 'county_name')"
   ]
  },
  {
   "cell_type": "code",
   "execution_count": null,
   "id": "75943253",
   "metadata": {},
   "outputs": [],
   "source": [
    "# Join with geospatial join to get course info including county name"
   ]
  },
  {
   "cell_type": "code",
   "execution_count": null,
   "id": "3dbebff1",
   "metadata": {},
   "outputs": [],
   "source": [
    "all_course_info = join.merge(county_areas_income, how = 'inner', on = 'county_name')"
   ]
  },
  {
   "cell_type": "code",
   "execution_count": null,
   "id": "8b21ecd3",
   "metadata": {},
   "outputs": [],
   "source": [
    "all_course_info['city'] = all_course_info['city'].str[:-3]"
   ]
  },
  {
   "cell_type": "code",
   "execution_count": null,
   "id": "ec2902d2",
   "metadata": {},
   "outputs": [],
   "source": [
    "all_course_info = all_course_info[['course_name', 'course_type', 'holes', 'city', 'state', 'county_name',\n",
    "                                   'median_income', 'male_pop', 'female_pop', 'pop_over_65',\n",
    "                                   'total_pop', 'pct_over_65', 'land_area_sqmi', 'area_rank', \n",
    "                                   'lat', 'lon', 'geometry']]"
   ]
  },
  {
   "cell_type": "markdown",
   "id": "9fd8ffa1",
   "metadata": {},
   "source": [
    "# bring in counties regions table for further analysis"
   ]
  },
  {
   "cell_type": "code",
   "execution_count": null,
   "id": "4e61a242",
   "metadata": {},
   "outputs": [],
   "source": [
    "counties = counties.rename(columns = {'NAME' : 'county_name'})"
   ]
  },
  {
   "cell_type": "code",
   "execution_count": null,
   "id": "ad77d255",
   "metadata": {},
   "outputs": [],
   "source": [
    "county_region = pd.read_csv(r\"C:\\Users\\hunte\\Documents\\NNS-DDA10\\hunter_capstone\\data\\county_region.csv\")"
   ]
  },
  {
   "cell_type": "code",
   "execution_count": null,
   "id": "d7654bbe",
   "metadata": {},
   "outputs": [],
   "source": [
    "# Create regions in order to do a breakdown per region"
   ]
  },
  {
   "cell_type": "code",
   "execution_count": null,
   "id": "be556378",
   "metadata": {},
   "outputs": [],
   "source": [
    "east_counties = county_region['East'].reset_index(name = 'county_name').dropna()"
   ]
  },
  {
   "cell_type": "code",
   "execution_count": null,
   "id": "8921b55e",
   "metadata": {},
   "outputs": [],
   "source": [
    "east_counties['region'] = 'East'"
   ]
  },
  {
   "cell_type": "code",
   "execution_count": null,
   "id": "83d3c152",
   "metadata": {},
   "outputs": [],
   "source": [
    "east_counties = east_counties.drop(columns = {'index'})"
   ]
  },
  {
   "cell_type": "code",
   "execution_count": null,
   "id": "c3ee2119",
   "metadata": {},
   "outputs": [],
   "source": [
    "east_counties['state'] = 'TN'"
   ]
  },
  {
   "cell_type": "code",
   "execution_count": null,
   "id": "9a57d601",
   "metadata": {},
   "outputs": [],
   "source": [
    "west_counties = county_region['West'].reset_index(name = 'county_name').dropna()"
   ]
  },
  {
   "cell_type": "code",
   "execution_count": null,
   "id": "a87b2690",
   "metadata": {},
   "outputs": [],
   "source": [
    "west_counties['region'] = 'West'"
   ]
  },
  {
   "cell_type": "code",
   "execution_count": null,
   "id": "71eb0275",
   "metadata": {},
   "outputs": [],
   "source": [
    "west_counties = west_counties.drop(columns = {'index'})"
   ]
  },
  {
   "cell_type": "code",
   "execution_count": null,
   "id": "6e43c4bc",
   "metadata": {},
   "outputs": [],
   "source": [
    "west_counties['state'] = 'TN'"
   ]
  },
  {
   "cell_type": "code",
   "execution_count": null,
   "id": "94d22ad4",
   "metadata": {},
   "outputs": [],
   "source": [
    "mid_counties = county_region['Middle'].reset_index(name = 'county_name').dropna()"
   ]
  },
  {
   "cell_type": "code",
   "execution_count": null,
   "id": "24ec4407",
   "metadata": {},
   "outputs": [],
   "source": [
    "mid_counties['region'] = 'Middle'"
   ]
  },
  {
   "cell_type": "code",
   "execution_count": null,
   "id": "127277c3",
   "metadata": {},
   "outputs": [],
   "source": [
    "mid_counties = mid_counties.drop(columns = {'index'})"
   ]
  },
  {
   "cell_type": "code",
   "execution_count": null,
   "id": "88ee8521",
   "metadata": {},
   "outputs": [],
   "source": [
    "mid_counties['state'] = 'TN'"
   ]
  },
  {
   "cell_type": "code",
   "execution_count": null,
   "id": "6dcf75a2",
   "metadata": {},
   "outputs": [],
   "source": [
    "county_region = pd.concat([east_counties, west_counties, mid_counties])"
   ]
  },
  {
   "cell_type": "code",
   "execution_count": null,
   "id": "dd318b6e",
   "metadata": {},
   "outputs": [],
   "source": [
    "counties = counties.merge(county_region, how = 'inner', on = 'county_name')"
   ]
  },
  {
   "cell_type": "code",
   "execution_count": null,
   "id": "526f445c",
   "metadata": {},
   "outputs": [],
   "source": [
    "counties = counties[['county_name', 'region', 'geometry']]"
   ]
  },
  {
   "cell_type": "code",
   "execution_count": null,
   "id": "003f5d5e",
   "metadata": {},
   "outputs": [],
   "source": [
    "# Create county geospatial dataframes in case we need it"
   ]
  },
  {
   "cell_type": "code",
   "execution_count": null,
   "id": "50e7d397",
   "metadata": {},
   "outputs": [],
   "source": [
    "east_counties_geo = counties.loc[counties['region'] == 'East']"
   ]
  },
  {
   "cell_type": "code",
   "execution_count": null,
   "id": "da2a55d2",
   "metadata": {},
   "outputs": [],
   "source": [
    "west_counties_geo = counties.loc[counties['region'] == 'West']"
   ]
  },
  {
   "cell_type": "code",
   "execution_count": null,
   "id": "c29a8963",
   "metadata": {},
   "outputs": [],
   "source": [
    "middle_counties_geo = counties.loc[counties['region'] == 'Middle']"
   ]
  },
  {
   "cell_type": "code",
   "execution_count": null,
   "id": "35c4e2bf",
   "metadata": {},
   "outputs": [],
   "source": [
    "# Merge regions with course info to display region"
   ]
  },
  {
   "cell_type": "code",
   "execution_count": null,
   "id": "159dadf8",
   "metadata": {},
   "outputs": [],
   "source": [
    "all_course_info = all_course_info.merge(county_region, how = 'inner', on = 'county_name')"
   ]
  },
  {
   "cell_type": "code",
   "execution_count": null,
   "id": "d7b5fd85",
   "metadata": {},
   "outputs": [],
   "source": [
    "all_course_info = all_course_info[['course_name', 'course_type', 'holes', 'city', 'state_x', 'county_name',\n",
    "                                   'region', 'median_income', 'male_pop', 'female_pop', 'pop_over_65',\n",
    "                                   'total_pop', 'pct_over_65', 'land_area_sqmi', 'area_rank', \n",
    "                                   'lat', 'lon', 'geometry']]"
   ]
  },
  {
   "cell_type": "code",
   "execution_count": null,
   "id": "11951b7c",
   "metadata": {},
   "outputs": [],
   "source": [
    "all_course_info = all_course_info.rename(columns = {'state_x' : 'state'})"
   ]
  },
  {
   "cell_type": "markdown",
   "id": "35547a08",
   "metadata": {},
   "source": [
    "# create dataframes for regional courses and course types"
   ]
  },
  {
   "cell_type": "code",
   "execution_count": null,
   "id": "183e9354",
   "metadata": {},
   "outputs": [],
   "source": [
    "east_courses = all_course_info.loc[all_course_info['region'] == 'East']"
   ]
  },
  {
   "cell_type": "code",
   "execution_count": null,
   "id": "d3b1bbef",
   "metadata": {},
   "outputs": [],
   "source": [
    "west_courses = all_course_info.loc[all_course_info['region'] == 'West']"
   ]
  },
  {
   "cell_type": "code",
   "execution_count": null,
   "id": "df41862f",
   "metadata": {},
   "outputs": [],
   "source": [
    "mid_courses = all_course_info.loc[all_course_info['region'] == 'Middle']"
   ]
  },
  {
   "cell_type": "code",
   "execution_count": null,
   "id": "55041dc4",
   "metadata": {},
   "outputs": [],
   "source": [
    "private_courses = all_course_info.loc[all_course_info['course_type'] == 'Private']"
   ]
  },
  {
   "cell_type": "code",
   "execution_count": null,
   "id": "504cfe62",
   "metadata": {},
   "outputs": [],
   "source": [
    "public_courses = all_course_info.loc[all_course_info['course_type'] == 'Public']"
   ]
  },
  {
   "cell_type": "code",
   "execution_count": null,
   "id": "79175100",
   "metadata": {},
   "outputs": [],
   "source": [
    "municipal_courses = all_course_info.loc[all_course_info['course_type'] == 'Municipal']"
   ]
  },
  {
   "cell_type": "code",
   "execution_count": null,
   "id": "d7b9a2c0",
   "metadata": {},
   "outputs": [],
   "source": [
    "semi_private_courses = all_course_info.loc[all_course_info['course_type'] == 'Semi Private']"
   ]
  },
  {
   "cell_type": "code",
   "execution_count": null,
   "id": "e0fad381",
   "metadata": {},
   "outputs": [],
   "source": [
    "all_course_info = all_course_info.rename(columns = {'region' : 'county_region',\n",
    "                                                    'median_income' : 'est_median_hh_inc',\n",
    "                                                    'male_pop' : 'male_pop_over65',\n",
    "                                                    'female_pop' : 'female_pop_over65'})"
   ]
  },
  {
   "cell_type": "code",
   "execution_count": null,
   "id": "e7d85bbc",
   "metadata": {},
   "outputs": [],
   "source": [
    "# Create course count dataframe to merge with county_metrics to get all metrics in one dataframe"
   ]
  },
  {
   "cell_type": "code",
   "execution_count": null,
   "id": "a6b2b40e",
   "metadata": {},
   "outputs": [],
   "source": [
    "course_count = all_course_info.value_counts('county_name').reset_index(name = 'course_count')"
   ]
  },
  {
   "cell_type": "code",
   "execution_count": null,
   "id": "bb254742",
   "metadata": {},
   "outputs": [],
   "source": [
    "county_metrics = county_areas_income.merge(course_count, how = 'left', on = 'county_name')"
   ]
  },
  {
   "cell_type": "code",
   "execution_count": null,
   "id": "963a4554",
   "metadata": {},
   "outputs": [],
   "source": [
    "county_metrics['course_count'] = county_metrics['course_count'].fillna(0)"
   ]
  },
  {
   "cell_type": "code",
   "execution_count": null,
   "id": "0a27ad48",
   "metadata": {},
   "outputs": [],
   "source": [
    "county_metrics['course_count'] = county_metrics['course_count'].astype('int64')"
   ]
  },
  {
   "cell_type": "code",
   "execution_count": null,
   "id": "d41b99fb",
   "metadata": {},
   "outputs": [],
   "source": [
    "county_metrics = county_metrics[['county_name', 'course_count', 'male_pop', 'female_pop', 'pop_over_65',\n",
    "                                 'total_pop', 'pct_over_65', 'median_income', 'land_area_sqmi',\n",
    "                                 'area_rank']]"
   ]
  },
  {
   "cell_type": "code",
   "execution_count": null,
   "id": "bb85942c",
   "metadata": {},
   "outputs": [],
   "source": [
    "county_metrics['median_income'] = county_metrics['median_income'].astype('int64')"
   ]
  },
  {
   "cell_type": "code",
   "execution_count": null,
   "id": "1e9ca384",
   "metadata": {},
   "outputs": [],
   "source": [
    "county_metrics['land_area_sqmi'] = county_metrics['land_area_sqmi'].astype('float64')"
   ]
  },
  {
   "cell_type": "code",
   "execution_count": null,
   "id": "8528e531",
   "metadata": {},
   "outputs": [],
   "source": [
    "metrics_corr = county_metrics.drop(columns = {'county_name', 'male_pop', 'female_pop'}).corr()"
   ]
  },
  {
   "cell_type": "code",
   "execution_count": null,
   "id": "80a8b082",
   "metadata": {},
   "outputs": [],
   "source": [
    "# Make rankings to look for anything standing out"
   ]
  },
  {
   "cell_type": "code",
   "execution_count": null,
   "id": "c61d9d97",
   "metadata": {},
   "outputs": [],
   "source": [
    "pop_ranks = (county_metrics[['county_name', 'course_count', 'total_pop']]\n",
    "             .sort_values('total_pop', ascending = False).reset_index(drop = True).reset_index())"
   ]
  },
  {
   "cell_type": "code",
   "execution_count": null,
   "id": "997f4675",
   "metadata": {},
   "outputs": [],
   "source": [
    "pop_ranks = pop_ranks.rename(columns = {'index' : 'pop_rank'})"
   ]
  },
  {
   "cell_type": "code",
   "execution_count": null,
   "id": "2d3eac3a",
   "metadata": {},
   "outputs": [],
   "source": [
    "pop_ranks['pop_rank'] = pop_ranks['pop_rank'] + 1"
   ]
  },
  {
   "cell_type": "code",
   "execution_count": null,
   "id": "a10b2e1e",
   "metadata": {},
   "outputs": [],
   "source": [
    "pop_ranks = pop_ranks.sort_values('course_count', ascending = False)"
   ]
  },
  {
   "cell_type": "code",
   "execution_count": null,
   "id": "4a8a9952",
   "metadata": {},
   "outputs": [],
   "source": [
    "pop_ranks = pop_ranks.reset_index(drop = True)"
   ]
  },
  {
   "cell_type": "code",
   "execution_count": null,
   "id": "52aa54a0",
   "metadata": {},
   "outputs": [],
   "source": [
    "pct_65_plus_ranks = (county_metrics[['county_name', 'pct_over_65']]\n",
    "             .sort_values('pct_over_65', ascending = False).reset_index(drop = True).reset_index())"
   ]
  },
  {
   "cell_type": "code",
   "execution_count": null,
   "id": "655bc230",
   "metadata": {},
   "outputs": [],
   "source": [
    "pct_65_plus_ranks = pct_65_plus_ranks.rename(columns = {'index' : 'pct_over_65_rank'})"
   ]
  },
  {
   "cell_type": "code",
   "execution_count": null,
   "id": "1ea8c152",
   "metadata": {},
   "outputs": [],
   "source": [
    "pct_65_plus_ranks['pct_over_65_rank'] = pct_65_plus_ranks['pct_over_65_rank'] + 1"
   ]
  },
  {
   "cell_type": "code",
   "execution_count": null,
   "id": "84165a03",
   "metadata": {},
   "outputs": [],
   "source": [
    "land_area_ranks = county_metrics[['county_name', 'land_area_sqmi', 'area_rank']]"
   ]
  },
  {
   "cell_type": "code",
   "execution_count": null,
   "id": "a43a9bbb",
   "metadata": {},
   "outputs": [],
   "source": [
    "#merge all rankings for all ranks in one frame"
   ]
  },
  {
   "cell_type": "code",
   "execution_count": null,
   "id": "c40951ea",
   "metadata": {},
   "outputs": [],
   "source": [
    "all_ranks = pop_ranks.merge(pct_65_plus_ranks, how = 'inner', on = 'county_name')"
   ]
  },
  {
   "cell_type": "code",
   "execution_count": null,
   "id": "c1c42ca3",
   "metadata": {},
   "outputs": [],
   "source": [
    "all_ranks = all_ranks.merge(land_area_ranks, how = 'inner', on = 'county_name')"
   ]
  },
  {
   "cell_type": "code",
   "execution_count": null,
   "id": "56b5dbbe",
   "metadata": {},
   "outputs": [],
   "source": [
    "all_ranks = all_ranks[['county_name', 'course_count', 'total_pop', 'pop_rank', 'pct_over_65',\n",
    "                       'pct_over_65_rank', 'land_area_sqmi', 'area_rank']]"
   ]
  },
  {
   "cell_type": "code",
   "execution_count": null,
   "id": "ebff3601",
   "metadata": {},
   "outputs": [],
   "source": [
    "all_ranks = all_ranks.sort_values('course_count', ascending = False)"
   ]
  },
  {
   "cell_type": "code",
   "execution_count": null,
   "id": "a928f745",
   "metadata": {},
   "outputs": [],
   "source": [
    "all_ranks_corr = all_ranks.drop(columns = {'county_name'}).corr()"
   ]
  },
  {
   "cell_type": "code",
   "execution_count": null,
   "id": "a8a71adb",
   "metadata": {},
   "outputs": [],
   "source": [
    "tn_center = (35.75, -86)"
   ]
  },
  {
   "cell_type": "code",
   "execution_count": null,
   "id": "25b9f3a6",
   "metadata": {},
   "outputs": [],
   "source": [
    "tn_map = folium.Map(location = tn_center, zoom_start = 7)\n",
    "folium.GeoJson(counties).add_to(tn_map)\n",
    "for row, index in tn_courses.iterrows():\n",
    "    loc = [index['lon'], index['lat']]\n",
    "    pop = index['course_type'], index['holes']\n",
    "    icon = folium.Icon(color = 'green', shadow_size = (0,0), prefix = 'fa')\n",
    "    \n",
    "    marker = folium.Marker(\n",
    "        location = loc,\n",
    "        popup = pop, icon = icon,\n",
    "        tooltip = index['course_name'])\n",
    "    \n",
    "    marker.add_to(tn_map)\n",
    "\n",
    "tn_map"
   ]
  },
  {
   "cell_type": "code",
   "execution_count": null,
   "id": "f8fa19b4",
   "metadata": {},
   "outputs": [],
   "source": [
    "west_center = (35.8, -89.0)"
   ]
  },
  {
   "cell_type": "code",
   "execution_count": null,
   "id": "49aeaae3",
   "metadata": {},
   "outputs": [],
   "source": [
    "west_map = folium.Map(location = west_center, zoom_start = 8.25)\n",
    "folium.GeoJson(west_counties_geo).add_to(west_map)\n",
    "for row, index in west_courses.iterrows():\n",
    "    loc = [index['lon'], index['lat']]\n",
    "    pop = index['course_type'], index['holes']\n",
    "    icon = folium.Icon(color = 'green', shadow_size = (0,0), prefix = 'fa')\n",
    "    \n",
    "    marker = folium.Marker(\n",
    "        location = loc,\n",
    "        popup = pop, icon = icon,\n",
    "        tooltip = index['course_name'])\n",
    "    \n",
    "    marker.add_to(west_map)\n",
    "\n",
    "west_map"
   ]
  },
  {
   "cell_type": "code",
   "execution_count": null,
   "id": "78049d95",
   "metadata": {},
   "outputs": [],
   "source": [
    "mid_center = (35.9, -86.5)"
   ]
  },
  {
   "cell_type": "code",
   "execution_count": null,
   "id": "901027b3",
   "metadata": {},
   "outputs": [],
   "source": [
    "mid_map = folium.Map(location = mid_center, zoom_start = 8.25)\n",
    "folium.GeoJson(middle_counties_geo).add_to(mid_map)\n",
    "for row, index in mid_courses.iterrows():\n",
    "    loc = [index['lon'], index['lat']]\n",
    "    pop = index['course_type'], index['holes']\n",
    "    icon = folium.Icon(color = 'green', shadow_size = (0,0), prefix = 'fa')\n",
    "    \n",
    "    marker = folium.Marker(\n",
    "        location = loc,\n",
    "        popup = pop, icon = icon,\n",
    "        tooltip = index['course_name'])\n",
    "    \n",
    "    marker.add_to(mid_map)\n",
    "\n",
    "mid_map"
   ]
  },
  {
   "cell_type": "code",
   "execution_count": null,
   "id": "7698e261",
   "metadata": {},
   "outputs": [],
   "source": [
    "east_center = (35.75, -83.75)"
   ]
  },
  {
   "cell_type": "code",
   "execution_count": null,
   "id": "ecde6231",
   "metadata": {},
   "outputs": [],
   "source": [
    "east_map = folium.Map(location = east_center, zoom_start = 8.25)\n",
    "folium.GeoJson(east_counties_geo).add_to(east_map)\n",
    "for row, index in east_courses.iterrows():\n",
    "    loc = [index['lon'], index['lat']]\n",
    "    pop = index['course_type'], index['holes']\n",
    "    icon = folium.Icon(color = 'green', shadow_size = (0,0), prefix = 'fa')\n",
    "    \n",
    "    marker = folium.Marker(\n",
    "        location = loc,\n",
    "        popup = pop, icon = icon,\n",
    "        tooltip = index['course_name'])\n",
    "    \n",
    "    marker.add_to(east_map)\n",
    "\n",
    "east_map"
   ]
  },
  {
   "cell_type": "code",
   "execution_count": null,
   "id": "cd924dde",
   "metadata": {},
   "outputs": [],
   "source": [
    "ax = counties.plot(figsize = (14,14))\n",
    "\n",
    "tn_courses.plot(ax = ax, color = 'black')"
   ]
  },
  {
   "cell_type": "code",
   "execution_count": null,
   "id": "93cad6ea",
   "metadata": {},
   "outputs": [],
   "source": [
    "ax = west_counties_geo.plot(figsize = (12,12))\n",
    "\n",
    "west_courses.plot(ax = ax, color = 'black')"
   ]
  },
  {
   "cell_type": "code",
   "execution_count": null,
   "id": "36f08483",
   "metadata": {},
   "outputs": [],
   "source": [
    "ax = middle_counties_geo.plot(figsize = (12,12))\n",
    "\n",
    "mid_courses.plot(ax = ax, color = 'black')"
   ]
  },
  {
   "cell_type": "code",
   "execution_count": null,
   "id": "a4f54f84",
   "metadata": {},
   "outputs": [],
   "source": [
    "ax = east_counties_geo.plot(figsize = (12,12))\n",
    "\n",
    "east_courses.plot(ax = ax, color = 'black')"
   ]
  },
  {
   "cell_type": "code",
   "execution_count": null,
   "id": "613de7f6",
   "metadata": {},
   "outputs": [],
   "source": [
    "county_metrics.drop(columns = {'male_pop', 'female_pop', 'county_name'}).corr()"
   ]
  },
  {
   "cell_type": "code",
   "execution_count": null,
   "id": "e6a16fe0",
   "metadata": {},
   "outputs": [],
   "source": [
    "top19 = county_metrics.sort_values('course_count', ascending = False).head(19)"
   ]
  },
  {
   "cell_type": "code",
   "execution_count": null,
   "id": "93e2a3a3",
   "metadata": {},
   "outputs": [],
   "source": [
    "top19.to_csv('data/visualization_data/top19_counties.csv')"
   ]
  },
  {
   "cell_type": "code",
   "execution_count": null,
   "id": "c85e99b6",
   "metadata": {},
   "outputs": [],
   "source": [
    "# Make a query call to get course info for the top 19 counties"
   ]
  },
  {
   "cell_type": "code",
   "execution_count": null,
   "id": "68bc82bf",
   "metadata": {},
   "outputs": [],
   "source": [
    "top19_names = top19['county_name']"
   ]
  },
  {
   "cell_type": "code",
   "execution_count": null,
   "id": "348cc9f7",
   "metadata": {},
   "outputs": [],
   "source": [
    "top19_course_info = all_course_info.query('county_name in @ top19_names')"
   ]
  },
  {
   "cell_type": "code",
   "execution_count": null,
   "id": "f0ad9b8c",
   "metadata": {},
   "outputs": [],
   "source": []
  }
 ],
 "metadata": {
  "kernelspec": {
   "display_name": "Python 3 (ipykernel)",
   "language": "python",
   "name": "python3"
  },
  "language_info": {
   "codemirror_mode": {
    "name": "ipython",
    "version": 3
   },
   "file_extension": ".py",
   "mimetype": "text/x-python",
   "name": "python",
   "nbconvert_exporter": "python",
   "pygments_lexer": "ipython3",
   "version": "3.10.12"
  }
 },
 "nbformat": 4,
 "nbformat_minor": 5
}
