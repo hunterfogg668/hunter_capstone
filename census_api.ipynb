{
 "cells": [
  {
   "cell_type": "code",
   "execution_count": null,
   "id": "09eee447",
   "metadata": {},
   "outputs": [],
   "source": [
    "import requests\n",
    "import pandas as pd\n",
    "import matplotlib.pyplot as plt\n",
    "import json\n",
    "import re\n",
    "import geopandas as gpd\n",
    "from shapely.geometry import Point"
   ]
  },
  {
   "cell_type": "code",
   "execution_count": null,
   "id": "cd8eee4f",
   "metadata": {},
   "outputs": [],
   "source": [
    "with open(r\"C:\\Users\\hunte\\Documents\\NNS-DDA10\\python\\data\\census_api_key.json\") as fi:\n",
    "    credentials = json.load(fi)"
   ]
  },
  {
   "cell_type": "code",
   "execution_count": null,
   "id": "8d7274e2",
   "metadata": {},
   "outputs": [],
   "source": [
    "api_key = credentials['api_key']"
   ]
  },
  {
   "cell_type": "code",
   "execution_count": null,
   "id": "f9ef21e0",
   "metadata": {},
   "outputs": [],
   "source": [
    "#bring in median income"
   ]
  },
  {
   "cell_type": "code",
   "execution_count": null,
   "id": "daa1ae77",
   "metadata": {},
   "outputs": [],
   "source": [
    "endpoint = 'https://api.census.gov/data/timeseries/poverty/saipe?get=NAME,SAEMHI_PT&for=county:*&in=state:47&YEAR=2020&key={0}'.format(api_key)\n",
    "\n",
    "response = requests.get(endpoint)"
   ]
  },
  {
   "cell_type": "code",
   "execution_count": null,
   "id": "22b61ba3",
   "metadata": {},
   "outputs": [],
   "source": [
    "res = response.json()"
   ]
  },
  {
   "cell_type": "code",
   "execution_count": null,
   "id": "51a77490",
   "metadata": {},
   "outputs": [],
   "source": [
    "income = pd.DataFrame(res)"
   ]
  },
  {
   "cell_type": "code",
   "execution_count": null,
   "id": "8efde31e",
   "metadata": {},
   "outputs": [],
   "source": [
    "headers = income.iloc[0]\n",
    "income = income[1:]\n",
    "income.columns = headers"
   ]
  },
  {
   "cell_type": "code",
   "execution_count": null,
   "id": "2d681e50",
   "metadata": {},
   "outputs": [],
   "source": [
    "income = income.rename(columns = {'NAME' : 'county_name',\n",
    "                                  'SAEMHI_PT' : 'median_income'})"
   ]
  },
  {
   "cell_type": "code",
   "execution_count": null,
   "id": "e64f6632",
   "metadata": {},
   "outputs": [],
   "source": [
    "#bring in population"
   ]
  },
  {
   "cell_type": "code",
   "execution_count": null,
   "id": "ef131197",
   "metadata": {},
   "outputs": [],
   "source": [
    "endpoint2 = 'https://api.census.gov/data/2020/dec/dhc?get=NAME,P1_001N&for=county:*&in=state:47&key={0}'.format(api_key)\n",
    "\n",
    "response2 = requests.get(endpoint2)"
   ]
  },
  {
   "cell_type": "code",
   "execution_count": null,
   "id": "8f3fb037",
   "metadata": {},
   "outputs": [],
   "source": [
    "tn_pop = pd.DataFrame(response2.json())"
   ]
  },
  {
   "cell_type": "code",
   "execution_count": null,
   "id": "b4583f52",
   "metadata": {},
   "outputs": [],
   "source": [
    "headers = tn_pop.iloc[0]\n",
    "tn_pop = tn_pop[1:]\n",
    "tn_pop.columns = headers"
   ]
  },
  {
   "cell_type": "code",
   "execution_count": null,
   "id": "1b0cac65",
   "metadata": {},
   "outputs": [],
   "source": [
    "tn_pop = tn_pop.rename(columns = {'NAME' : 'county_name',\n",
    "                                  'P1_001N' : 'total_pop'})"
   ]
  },
  {
   "cell_type": "code",
   "execution_count": null,
   "id": "3f5cb60c",
   "metadata": {},
   "outputs": [],
   "source": [
    "# Here we pull in population for each county for 65+\n",
    "# This will lead to many joins to get a generaltable for all populations 65+"
   ]
  },
  {
   "cell_type": "code",
   "execution_count": null,
   "id": "8254f7ae",
   "metadata": {},
   "outputs": [],
   "source": [
    "endpoint3 = 'https://api.census.gov/data/2020/dec/dhc?get=NAME,P12_020N&for=county:*&in=state:47&key={0}'.format(api_key)\n",
    "\n",
    "response3 = requests.get(endpoint3)"
   ]
  },
  {
   "cell_type": "code",
   "execution_count": null,
   "id": "01bf6f24",
   "metadata": {},
   "outputs": [],
   "source": [
    "male_65_66 = pd.DataFrame(response3.json())"
   ]
  },
  {
   "cell_type": "code",
   "execution_count": null,
   "id": "77d0bed3",
   "metadata": {},
   "outputs": [],
   "source": [
    "headers = male_65_66.iloc[0]\n",
    "male_65_66 = male_65_66[1:]\n",
    "male_65_66.columns = headers"
   ]
  },
  {
   "cell_type": "code",
   "execution_count": null,
   "id": "e3705b34",
   "metadata": {},
   "outputs": [],
   "source": [
    "male_65_66 = male_65_66.rename(columns = {'NAME' : 'county_name',\n",
    "                                          'P12_020N' : 'pop'})"
   ]
  },
  {
   "cell_type": "code",
   "execution_count": null,
   "id": "36e3caea",
   "metadata": {},
   "outputs": [],
   "source": [
    "male_65_66['age'] = '65-66 Male'"
   ]
  },
  {
   "cell_type": "code",
   "execution_count": null,
   "id": "ca2b63e9",
   "metadata": {},
   "outputs": [],
   "source": [
    "endpoint4 = 'https://api.census.gov/data/2020/dec/dhc?get=NAME,P12_021N&for=county:*&in=state:47&key={0}'.format(api_key)\n",
    "\n",
    "response4 = requests.get(endpoint4)"
   ]
  },
  {
   "cell_type": "code",
   "execution_count": null,
   "id": "740bca43",
   "metadata": {},
   "outputs": [],
   "source": [
    "male_67_69 = pd.DataFrame(response4.json())"
   ]
  },
  {
   "cell_type": "code",
   "execution_count": null,
   "id": "0d5d04ec",
   "metadata": {},
   "outputs": [],
   "source": [
    "headers = male_67_69.iloc[0]\n",
    "male_67_69 = male_67_69[1:]\n",
    "male_67_69.columns = headers"
   ]
  },
  {
   "cell_type": "code",
   "execution_count": null,
   "id": "9b400537",
   "metadata": {},
   "outputs": [],
   "source": [
    "male_67_69 = male_67_69.rename(columns = {'NAME' : 'county_name',\n",
    "                                          'P12_021N' : 'pop'})"
   ]
  },
  {
   "cell_type": "code",
   "execution_count": null,
   "id": "910435ba",
   "metadata": {},
   "outputs": [],
   "source": [
    "male_67_69['age'] = '67-69 Male'"
   ]
  },
  {
   "cell_type": "code",
   "execution_count": null,
   "id": "0f1ac012",
   "metadata": {},
   "outputs": [],
   "source": [
    "endpoint5 = 'https://api.census.gov/data/2020/dec/dhc?get=NAME,P12_022N&for=county:*&in=state:47&key={0}'.format(api_key)\n",
    "\n",
    "response5 = requests.get(endpoint5)"
   ]
  },
  {
   "cell_type": "code",
   "execution_count": null,
   "id": "1d1830a5",
   "metadata": {},
   "outputs": [],
   "source": [
    "male_70_74 = pd.DataFrame(response5.json())"
   ]
  },
  {
   "cell_type": "code",
   "execution_count": null,
   "id": "adba0b71",
   "metadata": {},
   "outputs": [],
   "source": [
    "headers = male_70_74.iloc[0]\n",
    "male_70_74 = male_70_74[1:]\n",
    "male_70_74.columns = headers"
   ]
  },
  {
   "cell_type": "code",
   "execution_count": null,
   "id": "ef7a4a88",
   "metadata": {},
   "outputs": [],
   "source": [
    "male_70_74 = male_70_74.rename(columns = {'NAME' : 'county_name',\n",
    "                                          'P12_022N' : 'pop'})"
   ]
  },
  {
   "cell_type": "code",
   "execution_count": null,
   "id": "935a5d63",
   "metadata": {},
   "outputs": [],
   "source": [
    "male_70_74['age'] = '70-74 Male'"
   ]
  },
  {
   "cell_type": "code",
   "execution_count": null,
   "id": "bc846dad",
   "metadata": {},
   "outputs": [],
   "source": [
    "endpoint6 = 'https://api.census.gov/data/2020/dec/dhc?get=NAME,P12_023N&for=county:*&in=state:47&key={0}'.format(api_key)\n",
    "\n",
    "response6 = requests.get(endpoint6)"
   ]
  },
  {
   "cell_type": "code",
   "execution_count": null,
   "id": "daa6a64d",
   "metadata": {},
   "outputs": [],
   "source": [
    "male_75_79 = pd.DataFrame(response6.json())"
   ]
  },
  {
   "cell_type": "code",
   "execution_count": null,
   "id": "5456f97b",
   "metadata": {},
   "outputs": [],
   "source": [
    "headers = male_75_79.iloc[0]\n",
    "male_75_79 = male_75_79[1:]\n",
    "male_75_79.columns = headers"
   ]
  },
  {
   "cell_type": "code",
   "execution_count": null,
   "id": "b322742e",
   "metadata": {},
   "outputs": [],
   "source": [
    "male_75_79 = male_75_79.rename(columns = {'NAME' : 'county_name',\n",
    "                                          'P12_023N' : 'pop'})"
   ]
  },
  {
   "cell_type": "code",
   "execution_count": null,
   "id": "ccd0decb",
   "metadata": {},
   "outputs": [],
   "source": [
    "male_75_79['age'] = '75-79 Male'"
   ]
  },
  {
   "cell_type": "code",
   "execution_count": null,
   "id": "2e04d216",
   "metadata": {},
   "outputs": [],
   "source": [
    "endpoint7 = 'https://api.census.gov/data/2020/dec/dhc?get=NAME,P12_024N&for=county:*&in=state:47&key={0}'.format(api_key)\n",
    "\n",
    "response7 = requests.get(endpoint7)"
   ]
  },
  {
   "cell_type": "code",
   "execution_count": null,
   "id": "cab858be",
   "metadata": {},
   "outputs": [],
   "source": [
    "male_80_84 = pd.DataFrame(response7.json())"
   ]
  },
  {
   "cell_type": "code",
   "execution_count": null,
   "id": "6e69437d",
   "metadata": {},
   "outputs": [],
   "source": [
    "headers = male_80_84.iloc[0]\n",
    "male_80_84 = male_80_84[1:]\n",
    "male_80_84.columns = headers"
   ]
  },
  {
   "cell_type": "code",
   "execution_count": null,
   "id": "47828b53",
   "metadata": {},
   "outputs": [],
   "source": [
    "male_80_84 = male_80_84.rename(columns = {'NAME' : 'county_name',\n",
    "                                          'P12_024N' : 'pop'})"
   ]
  },
  {
   "cell_type": "code",
   "execution_count": null,
   "id": "39b943dc",
   "metadata": {},
   "outputs": [],
   "source": [
    "male_80_84['age'] = '80-84 Male'"
   ]
  },
  {
   "cell_type": "code",
   "execution_count": null,
   "id": "add9bcdb",
   "metadata": {},
   "outputs": [],
   "source": [
    "endpoint8 = 'https://api.census.gov/data/2020/dec/dhc?get=NAME,P12_025N&for=county:*&in=state:47&key={0}'.format(api_key)\n",
    "\n",
    "response8 = requests.get(endpoint8)"
   ]
  },
  {
   "cell_type": "code",
   "execution_count": null,
   "id": "5014091a",
   "metadata": {},
   "outputs": [],
   "source": [
    "male_85_plus = pd.DataFrame(response8.json())"
   ]
  },
  {
   "cell_type": "code",
   "execution_count": null,
   "id": "117449cb",
   "metadata": {},
   "outputs": [],
   "source": [
    "headers = male_85_plus.iloc[0]\n",
    "male_85_plus = male_85_plus[1:]\n",
    "male_85_plus.columns = headers"
   ]
  },
  {
   "cell_type": "code",
   "execution_count": null,
   "id": "bded6b88",
   "metadata": {},
   "outputs": [],
   "source": [
    "male_85_plus = male_85_plus.rename(columns = {'NAME' : 'county_name',\n",
    "                                              'P12_025N' : 'pop'})"
   ]
  },
  {
   "cell_type": "code",
   "execution_count": null,
   "id": "4cbd1520",
   "metadata": {},
   "outputs": [],
   "source": [
    "male_85_plus['age'] = '85+ Male'"
   ]
  },
  {
   "cell_type": "code",
   "execution_count": null,
   "id": "ee45acd9",
   "metadata": {},
   "outputs": [],
   "source": [
    "male_pop_65plus = pd.concat([male_65_66, male_67_69, male_70_74, male_75_79, male_80_84, male_85_plus])"
   ]
  },
  {
   "cell_type": "code",
   "execution_count": null,
   "id": "df7e635c",
   "metadata": {},
   "outputs": [],
   "source": [
    "male_pop_65plus_pop = male_pop_65plus[['county_name', 'pop']]"
   ]
  },
  {
   "cell_type": "code",
   "execution_count": null,
   "id": "5a983d79",
   "metadata": {},
   "outputs": [],
   "source": [
    "male_pop_65plus_pop['pop'] = male_pop_65plus_pop['pop'].astype('int64')"
   ]
  },
  {
   "cell_type": "code",
   "execution_count": null,
   "id": "a0418cb9",
   "metadata": {},
   "outputs": [],
   "source": [
    "male_pop_65plus_pop = male_pop_65plus_pop.groupby(['county_name'], as_index = False)['pop'].sum()"
   ]
  },
  {
   "cell_type": "markdown",
   "id": "8cf0acac",
   "metadata": {},
   "source": [
    "# Placeholder for merging"
   ]
  },
  {
   "cell_type": "code",
   "execution_count": null,
   "id": "02703872",
   "metadata": {},
   "outputs": [],
   "source": [
    "endpoint9 = 'https://api.census.gov/data/2020/dec/dhc?get=NAME,P12_044N&for=county:*&in=state:47&key={0}'.format(api_key)\n",
    "\n",
    "response9 = requests.get(endpoint9)"
   ]
  },
  {
   "cell_type": "code",
   "execution_count": null,
   "id": "2f066194",
   "metadata": {},
   "outputs": [],
   "source": [
    "female_65_66 = pd.DataFrame(response9.json())"
   ]
  },
  {
   "cell_type": "code",
   "execution_count": null,
   "id": "7cdec147",
   "metadata": {},
   "outputs": [],
   "source": [
    "headers = female_65_66.iloc[0]\n",
    "female_65_66 = female_65_66[1:]\n",
    "female_65_66.columns = headers"
   ]
  },
  {
   "cell_type": "code",
   "execution_count": null,
   "id": "c0cda185",
   "metadata": {},
   "outputs": [],
   "source": [
    "female_65_66 = female_65_66.rename(columns = {'NAME' : 'county_name',\n",
    "                                              'P12_044N' : 'pop'})"
   ]
  },
  {
   "cell_type": "code",
   "execution_count": null,
   "id": "e024cd5f",
   "metadata": {},
   "outputs": [],
   "source": [
    "female_65_66['age'] = '65-66 Female'"
   ]
  },
  {
   "cell_type": "code",
   "execution_count": null,
   "id": "5371597c",
   "metadata": {},
   "outputs": [],
   "source": [
    "endpoint10 = 'https://api.census.gov/data/2020/dec/dhc?get=NAME,P12_045N&for=county:*&in=state:47&key={0}'.format(api_key)\n",
    "\n",
    "response10 = requests.get(endpoint10)"
   ]
  },
  {
   "cell_type": "code",
   "execution_count": null,
   "id": "f7ba6fe5",
   "metadata": {},
   "outputs": [],
   "source": [
    "female_67_69 = pd.DataFrame(response10.json())"
   ]
  },
  {
   "cell_type": "code",
   "execution_count": null,
   "id": "26a163e4",
   "metadata": {},
   "outputs": [],
   "source": [
    "headers = female_67_69.iloc[0]\n",
    "female_67_69 = female_67_69[1:]\n",
    "female_67_69.columns = headers"
   ]
  },
  {
   "cell_type": "code",
   "execution_count": null,
   "id": "28ffa883",
   "metadata": {},
   "outputs": [],
   "source": [
    "female_67_69 = female_67_69.rename(columns = {'NAME' : 'county_name',\n",
    "                                              'P12_045N' : 'pop'})"
   ]
  },
  {
   "cell_type": "code",
   "execution_count": null,
   "id": "ebef0a2a",
   "metadata": {},
   "outputs": [],
   "source": [
    "female_67_69['age'] = '67-69 Female'"
   ]
  },
  {
   "cell_type": "code",
   "execution_count": null,
   "id": "77e01334",
   "metadata": {},
   "outputs": [],
   "source": [
    "endpoint11 = 'https://api.census.gov/data/2020/dec/dhc?get=NAME,P12_046N&for=county:*&in=state:47&key={0}'.format(api_key)\n",
    "\n",
    "response11 = requests.get(endpoint11)"
   ]
  },
  {
   "cell_type": "code",
   "execution_count": null,
   "id": "d80f3047",
   "metadata": {},
   "outputs": [],
   "source": [
    "female_70_74 = pd.DataFrame(response11.json())"
   ]
  },
  {
   "cell_type": "code",
   "execution_count": null,
   "id": "a4c1c17a",
   "metadata": {},
   "outputs": [],
   "source": [
    "headers = female_70_74.iloc[0]\n",
    "female_70_74 = female_70_74[1:]\n",
    "female_70_74.columns = headers"
   ]
  },
  {
   "cell_type": "code",
   "execution_count": null,
   "id": "2c91b25a",
   "metadata": {},
   "outputs": [],
   "source": [
    "female_70_74 = female_70_74.rename(columns = {'NAME' : 'county_name',\n",
    "                                              'P12_046N' : 'pop'})"
   ]
  },
  {
   "cell_type": "code",
   "execution_count": null,
   "id": "9caf328b",
   "metadata": {},
   "outputs": [],
   "source": [
    "female_70_74['age'] = '70-74 Female'"
   ]
  },
  {
   "cell_type": "code",
   "execution_count": null,
   "id": "73883e70",
   "metadata": {},
   "outputs": [],
   "source": [
    "endpoint12 = 'https://api.census.gov/data/2020/dec/dhc?get=NAME,P12_047N&for=county:*&in=state:47&key={0}'.format(api_key)\n",
    "\n",
    "response12 = requests.get(endpoint12)"
   ]
  },
  {
   "cell_type": "code",
   "execution_count": null,
   "id": "93e3d9e0",
   "metadata": {},
   "outputs": [],
   "source": [
    "female_75_79 = pd.DataFrame(response12.json())"
   ]
  },
  {
   "cell_type": "code",
   "execution_count": null,
   "id": "92d8b8cc",
   "metadata": {},
   "outputs": [],
   "source": [
    "headers = female_75_79.iloc[0]\n",
    "female_75_79 = female_75_79[1:]\n",
    "female_75_79.columns = headers"
   ]
  },
  {
   "cell_type": "code",
   "execution_count": null,
   "id": "c360d816",
   "metadata": {},
   "outputs": [],
   "source": [
    "female_75_79 = female_75_79.rename(columns = {'NAME' : 'county_name',\n",
    "                                              'P12_047N' : 'pop'})"
   ]
  },
  {
   "cell_type": "code",
   "execution_count": null,
   "id": "c188acaf",
   "metadata": {},
   "outputs": [],
   "source": [
    "female_75_79['age'] = '75-79 Female'"
   ]
  },
  {
   "cell_type": "code",
   "execution_count": null,
   "id": "8afa8c0c",
   "metadata": {},
   "outputs": [],
   "source": [
    "endpoint13 = 'https://api.census.gov/data/2020/dec/dhc?get=NAME,P12_048N&for=county:*&in=state:47&key={0}'.format(api_key)\n",
    "\n",
    "response13 = requests.get(endpoint13)"
   ]
  },
  {
   "cell_type": "code",
   "execution_count": null,
   "id": "371551f3",
   "metadata": {},
   "outputs": [],
   "source": [
    "female_80_84 = pd.DataFrame(response13.json())"
   ]
  },
  {
   "cell_type": "code",
   "execution_count": null,
   "id": "b76afcf4",
   "metadata": {},
   "outputs": [],
   "source": [
    "headers = female_80_84.iloc[0]\n",
    "female_80_84 = female_80_84[1:]\n",
    "female_80_84.columns = headers"
   ]
  },
  {
   "cell_type": "code",
   "execution_count": null,
   "id": "21a07492",
   "metadata": {},
   "outputs": [],
   "source": [
    "female_80_84 = female_80_84.rename(columns = {'NAME' : 'county_name',\n",
    "                                              'P12_048N' : 'pop'})"
   ]
  },
  {
   "cell_type": "code",
   "execution_count": null,
   "id": "fe462aa2",
   "metadata": {},
   "outputs": [],
   "source": [
    "female_80_84['age'] = '80-84 Female'"
   ]
  },
  {
   "cell_type": "code",
   "execution_count": null,
   "id": "76a51ff8",
   "metadata": {},
   "outputs": [],
   "source": [
    "endpoint14 = 'https://api.census.gov/data/2020/dec/dhc?get=NAME,P12_048N&for=county:*&in=state:47&key={0}'.format(api_key)\n",
    "\n",
    "response14 = requests.get(endpoint14)"
   ]
  },
  {
   "cell_type": "code",
   "execution_count": null,
   "id": "cae0b1b4",
   "metadata": {},
   "outputs": [],
   "source": [
    "female_85_plus = pd.DataFrame(response14.json())"
   ]
  },
  {
   "cell_type": "code",
   "execution_count": null,
   "id": "bf037885",
   "metadata": {},
   "outputs": [],
   "source": [
    "headers = female_85_plus.iloc[0]\n",
    "female_85_plus = female_85_plus[1:]\n",
    "female_85_plus.columns = headers"
   ]
  },
  {
   "cell_type": "code",
   "execution_count": null,
   "id": "91d45ac4",
   "metadata": {},
   "outputs": [],
   "source": [
    "female_85_plus = female_85_plus.rename(columns = {'NAME' : 'county_name',\n",
    "                                                  'P12_048N' : 'pop'})"
   ]
  },
  {
   "cell_type": "code",
   "execution_count": null,
   "id": "5d604207",
   "metadata": {},
   "outputs": [],
   "source": [
    "female_85_plus['age'] = '85+ Female'"
   ]
  },
  {
   "cell_type": "code",
   "execution_count": null,
   "id": "22cf9ba1",
   "metadata": {},
   "outputs": [],
   "source": [
    "female_pop_65plus = pd.concat([female_65_66, female_67_69, female_70_74,\n",
    "                               female_75_79, female_80_84, female_85_plus])"
   ]
  },
  {
   "cell_type": "code",
   "execution_count": null,
   "id": "8470b4c1",
   "metadata": {},
   "outputs": [],
   "source": [
    "female_pop_65plus_pop = female_pop_65plus[['county_name', 'pop']]"
   ]
  },
  {
   "cell_type": "code",
   "execution_count": null,
   "id": "b155ba93",
   "metadata": {},
   "outputs": [],
   "source": [
    "female_pop_65plus_pop['pop'] = female_pop_65plus_pop['pop'].astype('int64')"
   ]
  },
  {
   "cell_type": "code",
   "execution_count": null,
   "id": "1dbacca5",
   "metadata": {},
   "outputs": [],
   "source": [
    "female_pop_65plus_pop = female_pop_65plus_pop.groupby('county_name', as_index = False)['pop'].sum()"
   ]
  },
  {
   "cell_type": "code",
   "execution_count": null,
   "id": "11a59b58",
   "metadata": {},
   "outputs": [],
   "source": [
    "#merge 65+ for both genders"
   ]
  },
  {
   "cell_type": "code",
   "execution_count": null,
   "id": "dabd01d2",
   "metadata": {},
   "outputs": [],
   "source": [
    "tnpop_65plus = pd.merge(male_pop_65plus_pop, female_pop_65plus_pop,\n",
    "        how = 'inner', on = 'county_name')"
   ]
  },
  {
   "cell_type": "code",
   "execution_count": null,
   "id": "c536b27c",
   "metadata": {},
   "outputs": [],
   "source": [
    "tnpop_65plus['pop_over_65'] = tnpop_65plus['pop_x'] + tnpop_65plus['pop_y']"
   ]
  },
  {
   "cell_type": "code",
   "execution_count": null,
   "id": "384f3a58",
   "metadata": {},
   "outputs": [],
   "source": [
    "tnpop_65plus = tnpop_65plus.rename(columns = {'pop_x' : 'male_pop',\n",
    "                                              'pop_y' : 'female_pop'})"
   ]
  },
  {
   "cell_type": "code",
   "execution_count": null,
   "id": "c92e5ddd",
   "metadata": {},
   "outputs": [],
   "source": [
    "tnpop_65plus = tnpop_65plus.merge(tn_pop, how = 'inner',\n",
    "                                   on = 'county_name')"
   ]
  },
  {
   "cell_type": "code",
   "execution_count": null,
   "id": "9be1616f",
   "metadata": {},
   "outputs": [],
   "source": [
    "tnpop_65plus = tnpop_65plus.drop(columns = {'state', 'county'})"
   ]
  },
  {
   "cell_type": "code",
   "execution_count": null,
   "id": "235635ac",
   "metadata": {},
   "outputs": [],
   "source": [
    "tnpop_65plus['total_pop'] = tnpop_65plus['total_pop'].astype('int64')"
   ]
  },
  {
   "cell_type": "code",
   "execution_count": null,
   "id": "dc8453d2",
   "metadata": {},
   "outputs": [],
   "source": [
    "tnpop_65plus['pct_over_65'] = round((tnpop_65plus['pop_over_65']/tnpop_65plus['total_pop'])*100,2)"
   ]
  },
  {
   "cell_type": "code",
   "execution_count": null,
   "id": "43bc77be",
   "metadata": {},
   "outputs": [],
   "source": [
    "tnpop_65plus['county_name'] = tnpop_65plus['county_name'].str[:-11]"
   ]
  },
  {
   "cell_type": "code",
   "execution_count": null,
   "id": "99e08bb4",
   "metadata": {},
   "outputs": [],
   "source": [
    "tnpop_65plus = tnpop_65plus.merge(income, how = 'inner',\n",
    "                                   on = 'county_name')"
   ]
  },
  {
   "cell_type": "code",
   "execution_count": null,
   "id": "8d2d3240",
   "metadata": {},
   "outputs": [],
   "source": [
    "tnpop_65plus = tnpop_65plus.drop(columns = {'YEAR', 'state', 'county'})"
   ]
  },
  {
   "cell_type": "code",
   "execution_count": null,
   "id": "57da19cb",
   "metadata": {},
   "outputs": [],
   "source": [
    "tnpop_65plus['county_name'] = tnpop_65plus['county_name'].str[:-7]"
   ]
  },
  {
   "cell_type": "code",
   "execution_count": null,
   "id": "06e7fedd",
   "metadata": {},
   "outputs": [],
   "source": [
    "#We now have a dataframe showing tn population with percent over 65 along with median income"
   ]
  },
  {
   "cell_type": "code",
   "execution_count": null,
   "id": "d1d8b6aa",
   "metadata": {},
   "outputs": [],
   "source": [
    "#Bring in TN county data for future plotting"
   ]
  },
  {
   "cell_type": "code",
   "execution_count": null,
   "id": "75e13f87",
   "metadata": {},
   "outputs": [],
   "source": [
    "counties = gpd.read_file(r\"C:\\Users\\hunte\\Documents\\NNS-DDA10\\hunter_capstone\\data\\TIGER_Line_2018_Tennessee_Counties.geojson\")"
   ]
  },
  {
   "cell_type": "code",
   "execution_count": null,
   "id": "cb86b991",
   "metadata": {},
   "outputs": [],
   "source": [
    "county_areas = pd.read_csv(r\"C:\\Users\\hunte\\Documents\\NNS-DDA10\\hunter_capstone\\data\\county_areas.csv\")"
   ]
  },
  {
   "cell_type": "code",
   "execution_count": null,
   "id": "63d21498",
   "metadata": {},
   "outputs": [],
   "source": [
    "county_areas = county_areas.rename(columns = {'Land Area ?' : 'land_area_sqmi',\n",
    "                                              'County / Population' : 'county_name'})"
   ]
  },
  {
   "cell_type": "code",
   "execution_count": null,
   "id": "6fa208a0",
   "metadata": {},
   "outputs": [],
   "source": [
    "county_areas['county_name'] = county_areas['county_name'].replace('Dekalb', 'DeKalb')"
   ]
  },
  {
   "cell_type": "code",
   "execution_count": null,
   "id": "13cf11b6",
   "metadata": {},
   "outputs": [],
   "source": [
    "county_areas['county_name'] = county_areas['county_name'].replace('Mcminn', 'McMinn')"
   ]
  },
  {
   "cell_type": "code",
   "execution_count": null,
   "id": "b972a402",
   "metadata": {},
   "outputs": [],
   "source": [
    "county_areas['county_name'] = county_areas['county_name'].replace('Mcnairy', 'McNairy')"
   ]
  },
  {
   "cell_type": "code",
   "execution_count": null,
   "id": "df41de3d",
   "metadata": {},
   "outputs": [],
   "source": [
    "tnpop_65plus_merge = tnpop_65plus.merge(county_areas, how = 'inner',\n",
    "                                        on = 'county_name')"
   ]
  },
  {
   "cell_type": "code",
   "execution_count": null,
   "id": "dd5321ec",
   "metadata": {},
   "outputs": [],
   "source": [
    "courses = gpd.read_file(r\"C:\\Users\\hunte\\Documents\\NNS-DDA10\\hunter_capstone\\data\\golf_course_locations.csv\")"
   ]
  },
  {
   "cell_type": "code",
   "execution_count": null,
   "id": "92a6f303",
   "metadata": {},
   "outputs": [],
   "source": [
    "courses['geometry'] = courses.apply(lambda x:Point((float(x.lat),\n",
    "                                                    float(x.lon))),\n",
    "                                    axis = 1)"
   ]
  },
  {
   "cell_type": "code",
   "execution_count": null,
   "id": "e5377d64",
   "metadata": {},
   "outputs": [],
   "source": [
    "courses = gpd.GeoDataFrame(courses,\n",
    "                           crs = counties.crs,\n",
    "                           geometry = courses['geometry'])"
   ]
  },
  {
   "cell_type": "code",
   "execution_count": null,
   "id": "d0596f3c",
   "metadata": {},
   "outputs": [],
   "source": [
    "courses['state'] = courses['golf_course_name'].str[-2:]"
   ]
  },
  {
   "cell_type": "code",
   "execution_count": null,
   "id": "eaa00c88",
   "metadata": {},
   "outputs": [],
   "source": [
    "tn_courses = courses.loc[courses['state'] == 'TN']"
   ]
  },
  {
   "cell_type": "code",
   "execution_count": null,
   "id": "a2666305",
   "metadata": {},
   "outputs": [],
   "source": [
    "tn_courses['course_type'] = tn_courses['course_desc'].str.extract('\\(([\\w\\s]+)\\)')"
   ]
  },
  {
   "cell_type": "code",
   "execution_count": null,
   "id": "88690051",
   "metadata": {},
   "outputs": [],
   "source": [
    "tn_courses['holes'] = tn_courses['course_desc'].str.extract('\\) \\(([\\w\\s]+)\\)')"
   ]
  },
  {
   "cell_type": "code",
   "execution_count": null,
   "id": "ad72c82e",
   "metadata": {},
   "outputs": [],
   "source": [
    "tn_courses[['course_name', 'city']] = tn_courses['golf_course_name'].str.split('-', expand = True)"
   ]
  },
  {
   "cell_type": "code",
   "execution_count": null,
   "id": "5f1050e4",
   "metadata": {},
   "outputs": [],
   "source": [
    "tn_courses = tn_courses.drop(columns = {'golf_course_name', 'course_desc'})"
   ]
  },
  {
   "cell_type": "code",
   "execution_count": null,
   "id": "f151c4e5",
   "metadata": {},
   "outputs": [],
   "source": [
    "tn_courses"
   ]
  },
  {
   "cell_type": "code",
   "execution_count": null,
   "id": "84482812",
   "metadata": {},
   "outputs": [],
   "source": [
    "counties"
   ]
  },
  {
   "cell_type": "code",
   "execution_count": null,
   "id": "6883557a",
   "metadata": {},
   "outputs": [],
   "source": [
    "counties.crs"
   ]
  },
  {
   "cell_type": "code",
   "execution_count": null,
   "id": "0589c949",
   "metadata": {},
   "outputs": [],
   "source": [
    "tn_courses.crs"
   ]
  },
  {
   "cell_type": "code",
   "execution_count": null,
   "id": "a92cada1",
   "metadata": {},
   "outputs": [],
   "source": [
    "merge = gpd.sjoin(tn_courses, counties, predicate = 'within')"
   ]
  },
  {
   "cell_type": "code",
   "execution_count": null,
   "id": "10458c13",
   "metadata": {},
   "outputs": [],
   "source": [
    "merge"
   ]
  },
  {
   "cell_type": "code",
   "execution_count": null,
   "id": "c37b70af",
   "metadata": {},
   "outputs": [],
   "source": [
    "merge.value_counts('NAME')"
   ]
  },
  {
   "cell_type": "code",
   "execution_count": null,
   "id": "00518051",
   "metadata": {},
   "outputs": [],
   "source": []
  },
  {
   "cell_type": "code",
   "execution_count": null,
   "id": "3dbebff1",
   "metadata": {},
   "outputs": [],
   "source": []
  },
  {
   "cell_type": "code",
   "execution_count": null,
   "id": "8b21ecd3",
   "metadata": {},
   "outputs": [],
   "source": []
  },
  {
   "cell_type": "code",
   "execution_count": null,
   "id": "ec2902d2",
   "metadata": {},
   "outputs": [],
   "source": []
  },
  {
   "cell_type": "code",
   "execution_count": null,
   "id": "ad77d255",
   "metadata": {},
   "outputs": [],
   "source": []
  },
  {
   "cell_type": "code",
   "execution_count": null,
   "id": "be556378",
   "metadata": {},
   "outputs": [],
   "source": []
  },
  {
   "cell_type": "code",
   "execution_count": null,
   "id": "9a57d601",
   "metadata": {},
   "outputs": [],
   "source": []
  },
  {
   "cell_type": "code",
   "execution_count": null,
   "id": "94d22ad4",
   "metadata": {},
   "outputs": [],
   "source": []
  }
 ],
 "metadata": {
  "kernelspec": {
   "display_name": "Python 3 (ipykernel)",
   "language": "python",
   "name": "python3"
  },
  "language_info": {
   "codemirror_mode": {
    "name": "ipython",
    "version": 3
   },
   "file_extension": ".py",
   "mimetype": "text/x-python",
   "name": "python",
   "nbconvert_exporter": "python",
   "pygments_lexer": "ipython3",
   "version": "3.10.12"
  }
 },
 "nbformat": 4,
 "nbformat_minor": 5
}
